{
 "cells": [
  {
   "cell_type": "markdown",
   "id": "8b37477c",
   "metadata": {},
   "source": [
    "# سلمى محمد فوزي ناجي_سكشن4_فرقة ثالثة معلوماتية طبية"
   ]
  },
  {
   "cell_type": "code",
   "execution_count": 1,
   "id": "5a1e6a0c",
   "metadata": {},
   "outputs": [],
   "source": [
    "import nltk"
   ]
  },
  {
   "cell_type": "code",
   "execution_count": 5,
   "id": "ee53dc26",
   "metadata": {},
   "outputs": [
    {
     "name": "stdout",
     "output_type": "stream",
     "text": [
      "['iam salma mohamed fawzy iam 20 years old  iam , cs student at benha university iam salma mohamed fawzy']\n",
      "['iam', 'salma', 'mohamed', 'fawzy', 'iam', '20', 'years', 'old', 'iam', ',', 'cs', 'student', 'at', 'benha', 'university', 'iam', 'salma', 'mohamed', 'fawzy']\n"
     ]
    }
   ],
   "source": [
    "from nltk.tokenize import sent_tokenize , word_tokenize\n",
    "text= \"iam salma mohamed fawzy\"+\\\n",
    "\" iam 20 years old \"+\\\n",
    "\" iam , cs student\"+\\\n",
    "\" at benha university\"+\\\n",
    "\" iam salma mohamed fawzy\"\n",
    "print (sent_tokenize(text))\n",
    "print (word_tokenize(text))"
   ]
  },
  {
   "cell_type": "markdown",
   "id": "e2a6861e",
   "metadata": {},
   "source": [
    "# ngram=4 ... assignment \n",
    "\n",
    "from nltk import ngrams\n",
    "\n",
    "text=\"iam salma mohamed fawzy ,iam 20 years old. iam a cs student at benha university \" \n",
    "\n",
    "n=4 \n",
    "fourgrams=ngrams(text.split(),n)\n",
    "for gram in fourgrams:\n",
    "    print(gram)"
   ]
  },
  {
   "cell_type": "code",
   "execution_count": 26,
   "id": "90ce2f9b",
   "metadata": {},
   "outputs": [
    {
     "name": "stdout",
     "output_type": "stream",
     "text": [
      "['iamsalmamohamed', 'salmamohamedfawzy', 'mohamedfawzy,', 'fawzy,iam', ',iam20', 'iam20years', '20yearsold', 'yearsold.', 'old.iam', '.iama', 'iamacs', 'acsstudent', 'csstudentat', 'studentatbenha', 'atbenhauniversity']\n"
     ]
    }
   ],
   "source": [
    "#ngram using function\n",
    "def ngramm(text,n):\n",
    "    ngrm=ngrams(word_tokenize(text),n)\n",
    "    return[''.join(grams)for grams in ngrm]\n",
    "#function callll\n",
    "x=ngramm(\"iam salma mohamed fawzy ,iam 20 years old. iam a cs student at benha university\",3)\n",
    "print(x)"
   ]
  },
  {
   "cell_type": "code",
   "execution_count": 28,
   "id": "d0ade9bb",
   "metadata": {},
   "outputs": [
    {
     "name": "stderr",
     "output_type": "stream",
     "text": [
      "[nltk_data] Downloading package averaged_perceptron_tagger to\n",
      "[nltk_data]     C:\\Users\\SaLmA\\AppData\\Roaming\\nltk_data...\n",
      "[nltk_data]   Package averaged_perceptron_tagger is already up-to-\n",
      "[nltk_data]       date!\n"
     ]
    },
    {
     "name": "stdout",
     "output_type": "stream",
     "text": [
      "[('iam', 'NN'), ('salma', 'NN'), ('mohamed', 'VBD'), ('fawzy', 'JJ'), (',iam', 'NNP'), ('20', 'CD'), ('years', 'NNS'), ('old.', 'RB'), ('iam', 'VBP'), ('a', 'DT'), ('cs', 'JJ'), ('student', 'NN'), ('at', 'IN'), ('benha', 'NN'), ('university', 'NN')]\n"
     ]
    }
   ],
   "source": [
    "#part of speech tagging \n",
    "import nltk\n",
    "nltk.download('averaged_perceptron_tagger')\n",
    "from nltk import pos_tag\n",
    "x=pos_tag('iam salma mohamed fawzy ,iam 20 years old. iam a cs student at benha university'.split())\n",
    "print(x)"
   ]
  },
  {
   "cell_type": "markdown",
   "id": "5501453a",
   "metadata": {},
   "source": [
    "# task: counting & returning nouns in paragraph\n",
    "import nltk\n",
    "nltk.download('averaged_perceptron_tagger')\n",
    "from nltk import pos_tag\n",
    "x=pos_tag(\"The quick brown fox jumps over the lazy dog\".split())\n",
    "print(x)\n",
    "\n",
    "def count_words(x):\n",
    "    wordcount = 0\n",
    "\n",
    "    for strings in x:\n",
    "\n",
    "        if strings[1]==\"NN\":\n",
    "            print(strings[0])\n",
    "            wordcount=wordcount+1\n",
    "    return wordcount\n",
    "print(count_words(x))\n"
   ]
  },
  {
   "cell_type": "code",
   "execution_count": 30,
   "id": "9ee0dd0a",
   "metadata": {},
   "outputs": [
    {
     "name": "stdout",
     "output_type": "stream",
     "text": [
      "['i', 'me', 'my', 'myself', 'we', 'our', 'ours', 'ourselves', 'you', \"you're\", \"you've\", \"you'll\", \"you'd\", 'your', 'yours', 'yourself', 'yourselves', 'he', 'him', 'his', 'himself', 'she', \"she's\", 'her', 'hers', 'herself', 'it', \"it's\", 'its', 'itself', 'they', 'them', 'their', 'theirs', 'themselves', 'what', 'which', 'who', 'whom', 'this', 'that', \"that'll\", 'these', 'those', 'am', 'is', 'are', 'was', 'were', 'be', 'been', 'being', 'have', 'has', 'had', 'having', 'do', 'does', 'did', 'doing', 'a', 'an', 'the', 'and', 'but', 'if', 'or', 'because', 'as', 'until', 'while', 'of', 'at', 'by', 'for', 'with', 'about', 'against', 'between', 'into', 'through', 'during', 'before', 'after', 'above', 'below', 'to', 'from', 'up', 'down', 'in', 'out', 'on', 'off', 'over', 'under', 'again', 'further', 'then', 'once', 'here', 'there', 'when', 'where', 'why', 'how', 'all', 'any', 'both', 'each', 'few', 'more', 'most', 'other', 'some', 'such', 'no', 'nor', 'not', 'only', 'own', 'same', 'so', 'than', 'too', 'very', 's', 't', 'can', 'will', 'just', 'don', \"don't\", 'should', \"should've\", 'now', 'd', 'll', 'm', 'o', 're', 've', 'y', 'ain', 'aren', \"aren't\", 'couldn', \"couldn't\", 'didn', \"didn't\", 'doesn', \"doesn't\", 'hadn', \"hadn't\", 'hasn', \"hasn't\", 'haven', \"haven't\", 'isn', \"isn't\", 'ma', 'mightn', \"mightn't\", 'mustn', \"mustn't\", 'needn', \"needn't\", 'shan', \"shan't\", 'shouldn', \"shouldn't\", 'wasn', \"wasn't\", 'weren', \"weren't\", 'won', \"won't\", 'wouldn', \"wouldn't\"]\n"
     ]
    }
   ],
   "source": [
    "#getting stopwords \n",
    "from nltk.corpus import stopwords\n",
    "print(stopwords.words('english'))"
   ]
  },
  {
   "cell_type": "markdown",
   "id": "cb95b851",
   "metadata": {},
   "source": [
    "# assignment ... Removing stop words with NLTK \n"
   ]
  },
  {
   "cell_type": "code",
   "execution_count": 1,
   "id": "ced0d139",
   "metadata": {},
   "outputs": [
    {
     "name": "stdout",
     "output_type": "stream",
     "text": [
      "['iam', 'salma', 'mohamed', 'fawzy', ',', 'iam', '20', 'years', 'old', '.', 'iam', 'a', 'cs', 'student', 'at', 'benha', 'university']\n",
      "['iam', 'salma', 'mohamed', 'fawzy', ',', 'iam', '20', 'years', 'old', '.', 'iam', 'cs', 'student', 'benha', 'university']\n"
     ]
    }
   ],
   "source": [
    "from nltk.corpus import stopwords \n",
    "from nltk.tokenize import word_tokenize \n",
    "text=\"iam salma mohamed fawzy ,iam 20 years old. iam a cs student at benha university\"\n",
    "stop_wordss=set(stopwords.words('english'))\n",
    "word_tokens=word_tokenize(text)\n",
    "filtered_text=[w for w in word_tokens if not w.lower() in stop_wordss]\n",
    "filtered_text=[]\n",
    "for w in word_tokens: \n",
    "    if w not in stop_wordss:\n",
    "        filtered_text.append(w)\n",
    "print(word_tokens)\n",
    "print(filtered_text)"
   ]
  },
  {
   "cell_type": "markdown",
   "id": "fcb9ce5b",
   "metadata": {},
   "source": [
    "# Lemma "
   ]
  },
  {
   "cell_type": "code",
   "execution_count": 21,
   "id": "ce349d07",
   "metadata": {},
   "outputs": [
    {
     "name": "stdout",
     "output_type": "stream",
     "text": [
      "salma : salma\n",
      "teachers : teacher\n",
      "better : good\n"
     ]
    }
   ],
   "source": [
    "from nltk.stem import WordNetLemmatizer\n",
    "\n",
    "lemmatizer = WordNetLemmatizer()\n",
    "\n",
    "print(\"salma :\", lemmatizer.lemmatize(\"salma\"))\n",
    "print(\"teachers :\", lemmatizer.lemmatize(\"teachers\"))\n",
    "print(\"better :\", lemmatizer.lemmatize(\"better\", pos =\"a\"))"
   ]
  },
  {
   "cell_type": "markdown",
   "id": "8c69e31e",
   "metadata": {},
   "source": [
    "# arabic lemma"
   ]
  },
  {
   "cell_type": "code",
   "execution_count": 23,
   "id": "702f2794",
   "metadata": {},
   "outputs": [
    {
     "name": "stdout",
     "output_type": "stream",
     "text": [
      "Collecting qalsadi\n",
      "  Downloading qalsadi-0.4.5-py3-none-any.whl (256 kB)\n",
      "Requirement already satisfied: future>=0.16.0 in c:\\users\\salma\\anaconda3\\lib\\site-packages (from qalsadi) (0.18.2)\n",
      "Collecting pickledb>=0.9.2\n",
      "  Downloading pickleDB-0.9.2.tar.gz (3.7 kB)\n",
      "Collecting libqutrub>=1.2.3\n",
      "  Downloading libqutrub-1.2.4.1-py3-none-any.whl (138 kB)\n",
      "Collecting alyahmor>=0.1\n",
      "  Downloading alyahmor-0.1.5-py3-none-any.whl (51 kB)\n",
      "Collecting Arabic-Stopwords>=0.3\n",
      "  Downloading Arabic_Stopwords-0.3-py3-none-any.whl (353 kB)\n",
      "Collecting arramooz-pysqlite>=0.3\n",
      "  Downloading arramooz_pysqlite-0.3-py3-none-any.whl (9.2 MB)\n",
      "Collecting pyarabic>=0.6.7\n",
      "  Downloading PyArabic-0.6.14-py3-none-any.whl (126 kB)\n",
      "Collecting tashaphyne>=0.3.4.1\n",
      "  Downloading Tashaphyne-0.3.6-py3-none-any.whl (251 kB)\n",
      "Requirement already satisfied: six>=1.10.0 in c:\\users\\salma\\anaconda3\\lib\\site-packages (from qalsadi) (1.16.0)\n",
      "Collecting naftawayh>=0.3\n",
      "  Downloading Naftawayh-0.4-py3-none-any.whl (332 kB)\n",
      "Building wheels for collected packages: pickledb\n",
      "  Building wheel for pickledb (setup.py): started\n",
      "  Building wheel for pickledb (setup.py): finished with status 'done'\n",
      "  Created wheel for pickledb: filename=pickleDB-0.9.2-py3-none-any.whl size=4268 sha256=20f99f8340e5e59bc494275354946584e059a7b63765ba60cab0321e39cf0f51\n",
      "  Stored in directory: c:\\users\\salma\\appdata\\local\\pip\\cache\\wheels\\d9\\eb\\d9\\69d8f166b1483ad069ebe839147464a878fa0046a6c13c694c\n",
      "Successfully built pickledb\n",
      "Installing collected packages: pyarabic, tashaphyne, libqutrub, arramooz-pysqlite, pickledb, naftawayh, Arabic-Stopwords, alyahmor, qalsadi\n",
      "Successfully installed Arabic-Stopwords-0.3 alyahmor-0.1.5 arramooz-pysqlite-0.3 libqutrub-1.2.4.1 naftawayh-0.4 pickledb-0.9.2 pyarabic-0.6.14 qalsadi-0.4.5 tashaphyne-0.3.6\n"
     ]
    }
   ],
   "source": [
    "!pip install qalsadi"
   ]
  },
  {
   "cell_type": "code",
   "execution_count": 27,
   "id": "f897f7bb",
   "metadata": {},
   "outputs": [
    {
     "name": "stdout",
     "output_type": "stream",
     "text": [
      "['انا', 'اسمى', 'سلمى', 'محمد', 'فوز', 'درس', 'في', 'كلية', 'حاسب', 'ذكاء', 'اصطناع', 'جامع', 'بن']\n",
      "[('انا', 'all'), ('اسمى', 'all'), ('سلمى', 'noun'), ('محمد', 'noun'), ('فوز', 'noun'), ('درس', 'verb'), ('في', 'stopword'), ('كلية', 'noun'), ('حاسب', 'noun'), ('ذكاء', 'noun'), ('اصطناع', 'noun'), ('جامع', 'noun'), ('بن', 'noun')]\n"
     ]
    }
   ],
   "source": [
    "import qalsadi.lemmatizer\n",
    "text = u\"\"\"انا اسمى سلمى محمد فوزي وادرس في كلية الحاسبات والذكاء الاصطناعي جامعة بنها \"\"\"\n",
    "lemmer = qalsadi.lemmatizer.Lemmatizer()\n",
    "lemmas = lemmer.lemmatize_text(text)\n",
    "print(lemmas) \n",
    "#print lemma and word position\n",
    "lemmas = lemmer.lemmatize_text(text, return_pos=True)\n",
    "print(lemmas)"
   ]
  },
  {
   "cell_type": "markdown",
   "id": "acee3f00",
   "metadata": {},
   "source": [
    "# Jaccard similarity"
   ]
  },
  {
   "cell_type": "code",
   "execution_count": 17,
   "id": "222d7a05",
   "metadata": {},
   "outputs": [
    {
     "name": "stdout",
     "output_type": "stream",
     "text": [
      "['m', 'o', 'h', 'a', 'm', 'm', 'e', 'd']\n",
      "['m', 'u', 'h', 'a', 'm', 'e', 'd']\n",
      "['m', 'o', 'h', 'a', 'm', 'm', 'e', 'd']\n",
      "['m', 'u', 'h', 'a', 'm', 'e', 'd']\n",
      "0.7142857142857143\n"
     ]
    }
   ],
   "source": [
    "from nltk.util import ngrams         ####unigram\n",
    "def split(word):\n",
    "    return [char for char in word]\n",
    "word1 = 'mohammed'\n",
    "word2 = 'muhamed'\n",
    "print(split(word1))\n",
    "print(split(word2))\n",
    "def get_ngrams(text, n ):\n",
    "    n_grams = ngrams(split(text), n)\n",
    "    return [ ' '.join(grams) for grams in n_grams]\n",
    "x=get_ngrams(word1, 1 )\n",
    "x2=get_ngrams(word2, 1 )\n",
    "print(x)\n",
    "print(x2)\n",
    "def jaccard_similarity(list1, list2):\n",
    "    intersection = len(set(list1).intersection(list2))\n",
    "    union = len(set(list1)) + len(set(list2)) - intersection\n",
    "\n",
    "    return intersection / union\n",
    "print(jaccard_similarity(word1,word2))\n"
   ]
  },
  {
   "cell_type": "code",
   "execution_count": 18,
   "id": "4ecbffd4",
   "metadata": {},
   "outputs": [
    {
     "name": "stdout",
     "output_type": "stream",
     "text": [
      "['m', 'o', 'h', 'a', 'm', 'm', 'e', 'd']\n",
      "['m', 'u', 'h', 'a', 'm', 'e', 'd']\n",
      "['m o', 'o h', 'h a', 'a m', 'm m', 'm e', 'e d']\n",
      "['m u', 'u h', 'h a', 'a m', 'm e', 'e d']\n",
      "0.7142857142857143\n"
     ]
    }
   ],
   "source": [
    "from nltk.util import ngrams      ###bigram\n",
    "def split(word):\n",
    "    return [char for char in word]\n",
    "word1 = 'mohammed'\n",
    "word2 = 'muhamed'\n",
    "print(split(word1))\n",
    "print(split(word2))\n",
    "def get_ngrams(text, n ):\n",
    "    n_grams = ngrams(split(text), n)\n",
    "    return [ ' '.join(grams) for grams in n_grams]\n",
    "x=get_ngrams(word1, 2 )\n",
    "x2=get_ngrams(word2, 2 )\n",
    "print(x)\n",
    "print(x2)\n",
    "def jaccard_similarity(list1, list2):\n",
    "    intersection = len(set(list1).intersection(list2))\n",
    "    union = len(set(list1)) + len(set(list2)) - intersection\n",
    "\n",
    "    return intersection / union\n",
    "print(jaccard_similarity(word1,word2))\n"
   ]
  },
  {
   "cell_type": "markdown",
   "id": "d20f0c3c",
   "metadata": {},
   "source": [
    "# TF-IDF code 'from scratch'\n"
   ]
  },
  {
   "cell_type": "code",
   "execution_count": 29,
   "id": "e62b23b5",
   "metadata": {},
   "outputs": [],
   "source": [
    "import pandas as pd"
   ]
  },
  {
   "cell_type": "code",
   "execution_count": 30,
   "id": "fbfc2191",
   "metadata": {},
   "outputs": [],
   "source": [
    "documentA = 'the man went out for a walk'\n",
    "documentB = 'the children sat around the fire'"
   ]
  },
  {
   "cell_type": "code",
   "execution_count": 31,
   "id": "6fbd7dae",
   "metadata": {},
   "outputs": [],
   "source": [
    "bagOfWordsA = documentA.split(' ')\n",
    "bagOfWordsB = documentB.split(' ')"
   ]
  },
  {
   "cell_type": "code",
   "execution_count": 32,
   "id": "ef41a22c",
   "metadata": {},
   "outputs": [
    {
     "data": {
      "text/plain": [
       "['the', 'man', 'went', 'out', 'for', 'a', 'walk']"
      ]
     },
     "execution_count": 32,
     "metadata": {},
     "output_type": "execute_result"
    }
   ],
   "source": [
    "bagOfWordsA"
   ]
  },
  {
   "cell_type": "code",
   "execution_count": 33,
   "id": "c4bf9d97",
   "metadata": {},
   "outputs": [
    {
     "data": {
      "text/plain": [
       "{'a',\n",
       " 'around',\n",
       " 'children',\n",
       " 'fire',\n",
       " 'for',\n",
       " 'man',\n",
       " 'out',\n",
       " 'sat',\n",
       " 'the',\n",
       " 'walk',\n",
       " 'went'}"
      ]
     },
     "execution_count": 33,
     "metadata": {},
     "output_type": "execute_result"
    }
   ],
   "source": [
    "uniqueWords = set(bagOfWordsA).union(set(bagOfWordsB)) #حذف التكرار مع الترتيب   set + هعمل اتحاد للاتنين \n",
    "uniqueWords"
   ]
  },
  {
   "cell_type": "code",
   "execution_count": 34,
   "id": "e5f6e563",
   "metadata": {},
   "outputs": [
    {
     "data": {
      "text/plain": [
       "{'walk': 0,\n",
       " 'children': 0,\n",
       " 'around': 0,\n",
       " 'out': 0,\n",
       " 'for': 0,\n",
       " 'fire': 0,\n",
       " 'sat': 0,\n",
       " 'the': 0,\n",
       " 'man': 0,\n",
       " 'a': 0,\n",
       " 'went': 0}"
      ]
     },
     "execution_count": 34,
     "metadata": {},
     "output_type": "execute_result"
    }
   ],
   "source": [
    "numOfWordsA = dict.fromkeys(uniqueWords, 0)\n",
    "numOfWordsA"
   ]
  },
  {
   "cell_type": "code",
   "execution_count": 35,
   "id": "3f99811e",
   "metadata": {},
   "outputs": [
    {
     "data": {
      "text/plain": [
       "{'walk': 1,\n",
       " 'children': 0,\n",
       " 'around': 0,\n",
       " 'out': 1,\n",
       " 'for': 1,\n",
       " 'fire': 0,\n",
       " 'sat': 0,\n",
       " 'the': 1,\n",
       " 'man': 1,\n",
       " 'a': 1,\n",
       " 'went': 1}"
      ]
     },
     "execution_count": 35,
     "metadata": {},
     "output_type": "execute_result"
    }
   ],
   "source": [
    "#A words=number of it's existence , other words = 0\n",
    "for word in bagOfWordsA:\n",
    "    numOfWordsA[word] += 1\n",
    "numOfWordsA"
   ]
  },
  {
   "cell_type": "code",
   "execution_count": 36,
   "id": "e782717b",
   "metadata": {},
   "outputs": [
    {
     "data": {
      "text/plain": [
       "{'walk': 0,\n",
       " 'children': 1,\n",
       " 'around': 1,\n",
       " 'out': 0,\n",
       " 'for': 0,\n",
       " 'fire': 1,\n",
       " 'sat': 1,\n",
       " 'the': 2,\n",
       " 'man': 0,\n",
       " 'a': 0,\n",
       " 'went': 0}"
      ]
     },
     "execution_count": 36,
     "metadata": {},
     "output_type": "execute_result"
    }
   ],
   "source": [
    "#B words=number of it's existence , other words = 0\n",
    "\n",
    "numOfWordsB = dict.fromkeys(uniqueWords, 0)\n",
    "\n",
    "for word in bagOfWordsB:\n",
    "    numOfWordsB[word] += 1\n",
    "\n",
    "numOfWordsB    "
   ]
  },
  {
   "cell_type": "code",
   "execution_count": 37,
   "id": "ce5b9dc4",
   "metadata": {},
   "outputs": [],
   "source": [
    "#now, we know every word in every sent & how many it exists"
   ]
  },
  {
   "cell_type": "code",
   "execution_count": 38,
   "id": "6df8c75b",
   "metadata": {},
   "outputs": [],
   "source": [
    "#TF calculation function\n",
    "def computeTF(wordDict, bagOfWords):\n",
    "    tfDict = {}                          #empty dictionary\n",
    "    bagOfWordsCount = len(bagOfWords)     #num of words in BOW\n",
    "    for word, count in wordDict.items():  #to return word and its count \n",
    "        tfDict[word] = count / float(bagOfWordsCount)\n",
    "    return tfDict"
   ]
  },
  {
   "cell_type": "code",
   "execution_count": 39,
   "id": "0ffa6695",
   "metadata": {},
   "outputs": [
    {
     "data": {
      "text/plain": [
       "{'walk': 0.14285714285714285,\n",
       " 'children': 0.0,\n",
       " 'around': 0.0,\n",
       " 'out': 0.14285714285714285,\n",
       " 'for': 0.14285714285714285,\n",
       " 'fire': 0.0,\n",
       " 'sat': 0.0,\n",
       " 'the': 0.14285714285714285,\n",
       " 'man': 0.14285714285714285,\n",
       " 'a': 0.14285714285714285,\n",
       " 'went': 0.14285714285714285}"
      ]
     },
     "execution_count": 39,
     "metadata": {},
     "output_type": "execute_result"
    }
   ],
   "source": [
    "tfA = computeTF(numOfWordsA,bagOfWordsA) #call TF fun. for the A sent.\n",
    "tfA"
   ]
  },
  {
   "cell_type": "code",
   "execution_count": 40,
   "id": "ae74bcee",
   "metadata": {},
   "outputs": [
    {
     "data": {
      "text/plain": [
       "{'walk': 0.0,\n",
       " 'children': 0.16666666666666666,\n",
       " 'around': 0.16666666666666666,\n",
       " 'out': 0.0,\n",
       " 'for': 0.0,\n",
       " 'fire': 0.16666666666666666,\n",
       " 'sat': 0.16666666666666666,\n",
       " 'the': 0.3333333333333333,\n",
       " 'man': 0.0,\n",
       " 'a': 0.0,\n",
       " 'went': 0.0}"
      ]
     },
     "execution_count": 40,
     "metadata": {},
     "output_type": "execute_result"
    }
   ],
   "source": [
    "tfB = computeTF(numOfWordsB, bagOfWordsB)   #call TF fun. for the B sent.\n",
    "tfB"
   ]
  },
  {
   "cell_type": "code",
   "execution_count": 41,
   "id": "09da106b",
   "metadata": {},
   "outputs": [],
   "source": [
    "#Inverse Document Frequency = N'num of all docs'/DF'num of docs, the word in'\n",
    "#IDF calculation function  \n",
    "\n",
    "def computeIDF(documents):\n",
    "    import math\n",
    "    N = len(documents)                               #num of all Docs\n",
    "    \n",
    "    idfDict = dict.fromkeys(documents[0].keys(), 0)   \n",
    "    for document in documents:                       #loop on Docs\n",
    "        for word, val in document.items():            #word , doc.freq\n",
    "            if val > 0:                               #if val of occurence>0 #if it exists in the doc\n",
    "                idfDict[word] += 1                    #id dict +1 \n",
    "    \n",
    "    for word, val in idfDict.items():                 #val=DF\n",
    "        idfDict[word] = math.log(N / float(val))\n",
    "    return idfDict"
   ]
  },
  {
   "cell_type": "code",
   "execution_count": 42,
   "id": "b1e5c305",
   "metadata": {},
   "outputs": [
    {
     "data": {
      "text/plain": [
       "{'walk': 0.6931471805599453,\n",
       " 'children': 0.6931471805599453,\n",
       " 'around': 0.6931471805599453,\n",
       " 'out': 0.6931471805599453,\n",
       " 'for': 0.6931471805599453,\n",
       " 'fire': 0.6931471805599453,\n",
       " 'sat': 0.6931471805599453,\n",
       " 'the': 0.0,\n",
       " 'man': 0.6931471805599453,\n",
       " 'a': 0.6931471805599453,\n",
       " 'went': 0.6931471805599453}"
      ]
     },
     "execution_count": 42,
     "metadata": {},
     "output_type": "execute_result"
    }
   ],
   "source": [
    "idfs = computeIDF([numOfWordsA, numOfWordsB])\n",
    "idfs"
   ]
  },
  {
   "cell_type": "code",
   "execution_count": 43,
   "id": "e8eaaaf1",
   "metadata": {},
   "outputs": [],
   "source": [
    "def computeTFIDF(tfBagOfWords, idfs):    #tf*idf ... \"multiply them\"\n",
    "    tfidf = {}\n",
    "    for word, val in tfBagOfWords.items():\n",
    "        tfidf[word] = val * idfs[word]\n",
    "    return tfidf\n"
   ]
  },
  {
   "cell_type": "code",
   "execution_count": 44,
   "id": "533bc412",
   "metadata": {},
   "outputs": [
    {
     "data": {
      "text/plain": [
       "{'walk': 0.09902102579427789,\n",
       " 'children': 0.0,\n",
       " 'around': 0.0,\n",
       " 'out': 0.09902102579427789,\n",
       " 'for': 0.09902102579427789,\n",
       " 'fire': 0.0,\n",
       " 'sat': 0.0,\n",
       " 'the': 0.0,\n",
       " 'man': 0.09902102579427789,\n",
       " 'a': 0.09902102579427789,\n",
       " 'went': 0.09902102579427789}"
      ]
     },
     "execution_count": 44,
     "metadata": {},
     "output_type": "execute_result"
    }
   ],
   "source": [
    "tfidfA = computeTFIDF(tfA, idfs)\n",
    "tfidfA"
   ]
  },
  {
   "cell_type": "code",
   "execution_count": 45,
   "id": "121cd405",
   "metadata": {},
   "outputs": [
    {
     "data": {
      "text/plain": [
       "{'walk': 0.0,\n",
       " 'children': 0.11552453009332421,\n",
       " 'around': 0.11552453009332421,\n",
       " 'out': 0.0,\n",
       " 'for': 0.0,\n",
       " 'fire': 0.11552453009332421,\n",
       " 'sat': 0.11552453009332421,\n",
       " 'the': 0.0,\n",
       " 'man': 0.0,\n",
       " 'a': 0.0,\n",
       " 'went': 0.0}"
      ]
     },
     "execution_count": 45,
     "metadata": {},
     "output_type": "execute_result"
    }
   ],
   "source": [
    "tfidfB = computeTFIDF(tfB, idfs)\n",
    "tfidfB"
   ]
  },
  {
   "cell_type": "code",
   "execution_count": 46,
   "id": "7a8ec37d",
   "metadata": {},
   "outputs": [
    {
     "data": {
      "text/html": [
       "<div>\n",
       "<style scoped>\n",
       "    .dataframe tbody tr th:only-of-type {\n",
       "        vertical-align: middle;\n",
       "    }\n",
       "\n",
       "    .dataframe tbody tr th {\n",
       "        vertical-align: top;\n",
       "    }\n",
       "\n",
       "    .dataframe thead th {\n",
       "        text-align: right;\n",
       "    }\n",
       "</style>\n",
       "<table border=\"1\" class=\"dataframe\">\n",
       "  <thead>\n",
       "    <tr style=\"text-align: right;\">\n",
       "      <th></th>\n",
       "      <th>walk</th>\n",
       "      <th>children</th>\n",
       "      <th>around</th>\n",
       "      <th>out</th>\n",
       "      <th>for</th>\n",
       "      <th>fire</th>\n",
       "      <th>sat</th>\n",
       "      <th>the</th>\n",
       "      <th>man</th>\n",
       "      <th>a</th>\n",
       "      <th>went</th>\n",
       "    </tr>\n",
       "  </thead>\n",
       "  <tbody>\n",
       "    <tr>\n",
       "      <th>0</th>\n",
       "      <td>0.099021</td>\n",
       "      <td>0.000000</td>\n",
       "      <td>0.000000</td>\n",
       "      <td>0.099021</td>\n",
       "      <td>0.099021</td>\n",
       "      <td>0.000000</td>\n",
       "      <td>0.000000</td>\n",
       "      <td>0.0</td>\n",
       "      <td>0.099021</td>\n",
       "      <td>0.099021</td>\n",
       "      <td>0.099021</td>\n",
       "    </tr>\n",
       "    <tr>\n",
       "      <th>1</th>\n",
       "      <td>0.000000</td>\n",
       "      <td>0.115525</td>\n",
       "      <td>0.115525</td>\n",
       "      <td>0.000000</td>\n",
       "      <td>0.000000</td>\n",
       "      <td>0.115525</td>\n",
       "      <td>0.115525</td>\n",
       "      <td>0.0</td>\n",
       "      <td>0.000000</td>\n",
       "      <td>0.000000</td>\n",
       "      <td>0.000000</td>\n",
       "    </tr>\n",
       "  </tbody>\n",
       "</table>\n",
       "</div>"
      ],
      "text/plain": [
       "       walk  children    around       out       for      fire       sat  the  \\\n",
       "0  0.099021  0.000000  0.000000  0.099021  0.099021  0.000000  0.000000  0.0   \n",
       "1  0.000000  0.115525  0.115525  0.000000  0.000000  0.115525  0.115525  0.0   \n",
       "\n",
       "        man         a      went  \n",
       "0  0.099021  0.099021  0.099021  \n",
       "1  0.000000  0.000000  0.000000  "
      ]
     },
     "execution_count": 46,
     "metadata": {},
     "output_type": "execute_result"
    }
   ],
   "source": [
    "df = pd.DataFrame([tfidfA, tfidfB]) # Data Frame to put them in a table \n",
    "df.head()                           #the table value is zero if the word is not in the sent"
   ]
  },
  {
   "cell_type": "markdown",
   "id": "20e6fadb",
   "metadata": {},
   "source": [
    "# TF-IDF code using SKlearn library"
   ]
  },
  {
   "cell_type": "code",
   "execution_count": 47,
   "id": "6d14bbbe",
   "metadata": {},
   "outputs": [
    {
     "name": "stdout",
     "output_type": "stream",
     "text": [
      "  (0, 8)\t0.42615959880289433\n",
      "  (0, 3)\t0.42615959880289433\n",
      "  (0, 5)\t0.42615959880289433\n",
      "  (0, 9)\t0.42615959880289433\n",
      "  (0, 4)\t0.42615959880289433\n",
      "  (0, 7)\t0.3032160644503863\n",
      "  (1, 2)\t0.40740123733358447\n",
      "  (1, 0)\t0.40740123733358447\n",
      "  (1, 6)\t0.40740123733358447\n",
      "  (1, 1)\t0.40740123733358447\n",
      "  (1, 7)\t0.5797386715376657\n"
     ]
    }
   ],
   "source": [
    "from sklearn.feature_extraction.text import TfidfVectorizer\n",
    "vectorizer = TfidfVectorizer()        #take object\n",
    "vectors = vectorizer.fit_transform([documentA, documentB])\n",
    "print(vectors)\n"
   ]
  },
  {
   "cell_type": "code",
   "execution_count": 48,
   "id": "1bc02a29",
   "metadata": {},
   "outputs": [
    {
     "data": {
      "text/plain": [
       "['around',\n",
       " 'children',\n",
       " 'fire',\n",
       " 'for',\n",
       " 'man',\n",
       " 'out',\n",
       " 'sat',\n",
       " 'the',\n",
       " 'walk',\n",
       " 'went']"
      ]
     },
     "execution_count": 48,
     "metadata": {},
     "output_type": "execute_result"
    }
   ],
   "source": [
    "feature_names = vectorizer.get_feature_names()\n",
    "feature_names"
   ]
  },
  {
   "cell_type": "code",
   "execution_count": 49,
   "id": "899eeca5",
   "metadata": {},
   "outputs": [
    {
     "data": {
      "text/plain": [
       "matrix([[0.        , 0.        , 0.        , 0.4261596 , 0.4261596 ,\n",
       "         0.4261596 , 0.        , 0.30321606, 0.4261596 , 0.4261596 ],\n",
       "        [0.40740124, 0.40740124, 0.40740124, 0.        , 0.        ,\n",
       "         0.        , 0.40740124, 0.57973867, 0.        , 0.        ]])"
      ]
     },
     "execution_count": 49,
     "metadata": {},
     "output_type": "execute_result"
    }
   ],
   "source": [
    "dense = vectors.todense()\n",
    "dense"
   ]
  },
  {
   "cell_type": "code",
   "execution_count": 50,
   "id": "8bab95fe",
   "metadata": {},
   "outputs": [
    {
     "data": {
      "text/html": [
       "<div>\n",
       "<style scoped>\n",
       "    .dataframe tbody tr th:only-of-type {\n",
       "        vertical-align: middle;\n",
       "    }\n",
       "\n",
       "    .dataframe tbody tr th {\n",
       "        vertical-align: top;\n",
       "    }\n",
       "\n",
       "    .dataframe thead th {\n",
       "        text-align: right;\n",
       "    }\n",
       "</style>\n",
       "<table border=\"1\" class=\"dataframe\">\n",
       "  <thead>\n",
       "    <tr style=\"text-align: right;\">\n",
       "      <th></th>\n",
       "      <th>around</th>\n",
       "      <th>children</th>\n",
       "      <th>fire</th>\n",
       "      <th>for</th>\n",
       "      <th>man</th>\n",
       "      <th>out</th>\n",
       "      <th>sat</th>\n",
       "      <th>the</th>\n",
       "      <th>walk</th>\n",
       "      <th>went</th>\n",
       "    </tr>\n",
       "  </thead>\n",
       "  <tbody>\n",
       "    <tr>\n",
       "      <th>0</th>\n",
       "      <td>0.000000</td>\n",
       "      <td>0.000000</td>\n",
       "      <td>0.000000</td>\n",
       "      <td>0.42616</td>\n",
       "      <td>0.42616</td>\n",
       "      <td>0.42616</td>\n",
       "      <td>0.000000</td>\n",
       "      <td>0.303216</td>\n",
       "      <td>0.42616</td>\n",
       "      <td>0.42616</td>\n",
       "    </tr>\n",
       "    <tr>\n",
       "      <th>1</th>\n",
       "      <td>0.407401</td>\n",
       "      <td>0.407401</td>\n",
       "      <td>0.407401</td>\n",
       "      <td>0.00000</td>\n",
       "      <td>0.00000</td>\n",
       "      <td>0.00000</td>\n",
       "      <td>0.407401</td>\n",
       "      <td>0.579739</td>\n",
       "      <td>0.00000</td>\n",
       "      <td>0.00000</td>\n",
       "    </tr>\n",
       "  </tbody>\n",
       "</table>\n",
       "</div>"
      ],
      "text/plain": [
       "     around  children      fire      for      man      out       sat  \\\n",
       "0  0.000000  0.000000  0.000000  0.42616  0.42616  0.42616  0.000000   \n",
       "1  0.407401  0.407401  0.407401  0.00000  0.00000  0.00000  0.407401   \n",
       "\n",
       "        the     walk     went  \n",
       "0  0.303216  0.42616  0.42616  \n",
       "1  0.579739  0.00000  0.00000  "
      ]
     },
     "execution_count": 50,
     "metadata": {},
     "output_type": "execute_result"
    }
   ],
   "source": [
    "denselist = dense.tolist()\n",
    "df = pd.DataFrame(denselist, columns=feature_names)\n",
    "df.head()"
   ]
  },
  {
   "cell_type": "code",
   "execution_count": null,
   "id": "41a9e43e",
   "metadata": {},
   "outputs": [],
   "source": []
  }
 ],
 "metadata": {
  "kernelspec": {
   "display_name": "Python 3 (ipykernel)",
   "language": "python",
   "name": "python3"
  },
  "language_info": {
   "codemirror_mode": {
    "name": "ipython",
    "version": 3
   },
   "file_extension": ".py",
   "mimetype": "text/x-python",
   "name": "python",
   "nbconvert_exporter": "python",
   "pygments_lexer": "ipython3",
   "version": "3.9.7"
  }
 },
 "nbformat": 4,
 "nbformat_minor": 5
}
