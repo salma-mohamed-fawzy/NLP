{
 "cells": [
  {
   "cell_type": "markdown",
   "id": "9f992437",
   "metadata": {},
   "source": [
    "# Sentence similarity project\n"
   ]
  },
  {
   "cell_type": "code",
   "execution_count": 1,
   "id": "9e724eb3",
   "metadata": {},
   "outputs": [],
   "source": [
    "#extract similarity betweem different sentences"
   ]
  },
  {
   "cell_type": "code",
   "execution_count": 2,
   "id": "694cdb80",
   "metadata": {},
   "outputs": [
    {
     "name": "stdout",
     "output_type": "stream",
     "text": [
      "Requirement already satisfied: gensim in c:\\users\\salma\\anaconda3\\lib\\site-packages (4.2.0)\n",
      "Requirement already satisfied: smart-open>=1.8.1 in c:\\users\\salma\\anaconda3\\lib\\site-packages (from gensim) (5.2.1)\n",
      "Requirement already satisfied: scipy>=0.18.1 in c:\\users\\salma\\anaconda3\\lib\\site-packages (from gensim) (1.7.1)\n",
      "Requirement already satisfied: Cython==0.29.28 in c:\\users\\salma\\anaconda3\\lib\\site-packages (from gensim) (0.29.28)\n",
      "Requirement already satisfied: numpy>=1.17.0 in c:\\users\\salma\\anaconda3\\lib\\site-packages (from gensim) (1.20.3)\n"
     ]
    }
   ],
   "source": [
    "!pip install gensim"
   ]
  },
  {
   "cell_type": "code",
   "execution_count": 3,
   "id": "6bd92713",
   "metadata": {},
   "outputs": [
    {
     "name": "stdout",
     "output_type": "stream",
     "text": [
      "Requirement already satisfied: spacy in c:\\users\\salma\\anaconda3\\lib\\site-packages (3.3.0)\n",
      "Requirement already satisfied: wasabi<1.1.0,>=0.9.1 in c:\\users\\salma\\anaconda3\\lib\\site-packages (from spacy) (0.9.1)\n",
      "Requirement already satisfied: srsly<3.0.0,>=2.4.3 in c:\\users\\salma\\anaconda3\\lib\\site-packages (from spacy) (2.4.3)\n",
      "Requirement already satisfied: preshed<3.1.0,>=3.0.2 in c:\\users\\salma\\anaconda3\\lib\\site-packages (from spacy) (3.0.6)\n",
      "Requirement already satisfied: thinc<8.1.0,>=8.0.14 in c:\\users\\salma\\anaconda3\\lib\\site-packages (from spacy) (8.0.16)\n",
      "Requirement already satisfied: tqdm<5.0.0,>=4.38.0 in c:\\users\\salma\\anaconda3\\lib\\site-packages (from spacy) (4.62.3)\n",
      "Requirement already satisfied: spacy-legacy<3.1.0,>=3.0.9 in c:\\users\\salma\\anaconda3\\lib\\site-packages (from spacy) (3.0.9)\n",
      "Requirement already satisfied: catalogue<2.1.0,>=2.0.6 in c:\\users\\salma\\anaconda3\\lib\\site-packages (from spacy) (2.0.7)\n",
      "Requirement already satisfied: pydantic!=1.8,!=1.8.1,<1.9.0,>=1.7.4 in c:\\users\\salma\\anaconda3\\lib\\site-packages (from spacy) (1.8.2)\n",
      "Requirement already satisfied: murmurhash<1.1.0,>=0.28.0 in c:\\users\\salma\\anaconda3\\lib\\site-packages (from spacy) (1.0.7)\n",
      "Requirement already satisfied: spacy-loggers<2.0.0,>=1.0.0 in c:\\users\\salma\\anaconda3\\lib\\site-packages (from spacy) (1.0.2)\n",
      "Requirement already satisfied: jinja2 in c:\\users\\salma\\anaconda3\\lib\\site-packages (from spacy) (2.11.3)\n",
      "Requirement already satisfied: setuptools in c:\\users\\salma\\anaconda3\\lib\\site-packages (from spacy) (58.0.4)\n",
      "Requirement already satisfied: pathy>=0.3.5 in c:\\users\\salma\\anaconda3\\lib\\site-packages (from spacy) (0.6.1)\n",
      "Requirement already satisfied: typer<0.5.0,>=0.3.0 in c:\\users\\salma\\anaconda3\\lib\\site-packages (from spacy) (0.4.1)\n",
      "Requirement already satisfied: numpy>=1.15.0 in c:\\users\\salma\\anaconda3\\lib\\site-packages (from spacy) (1.20.3)\n",
      "Requirement already satisfied: langcodes<4.0.0,>=3.2.0 in c:\\users\\salma\\anaconda3\\lib\\site-packages (from spacy) (3.3.0)\n",
      "Requirement already satisfied: packaging>=20.0 in c:\\users\\salma\\anaconda3\\lib\\site-packages (from spacy) (21.0)\n",
      "Requirement already satisfied: requests<3.0.0,>=2.13.0 in c:\\users\\salma\\anaconda3\\lib\\site-packages (from spacy) (2.26.0)\n",
      "Requirement already satisfied: cymem<2.1.0,>=2.0.2 in c:\\users\\salma\\anaconda3\\lib\\site-packages (from spacy) (2.0.6)\n",
      "Requirement already satisfied: blis<0.8.0,>=0.4.0 in c:\\users\\salma\\anaconda3\\lib\\site-packages (from spacy) (0.7.7)\n",
      "Requirement already satisfied: pyparsing>=2.0.2 in c:\\users\\salma\\anaconda3\\lib\\site-packages (from packaging>=20.0->spacy) (3.0.4)\n",
      "Requirement already satisfied: smart-open<6.0.0,>=5.0.0 in c:\\users\\salma\\anaconda3\\lib\\site-packages (from pathy>=0.3.5->spacy) (5.2.1)\n",
      "Requirement already satisfied: typing-extensions>=3.7.4.3 in c:\\users\\salma\\anaconda3\\lib\\site-packages (from pydantic!=1.8,!=1.8.1,<1.9.0,>=1.7.4->spacy) (3.10.0.2)\n",
      "Requirement already satisfied: urllib3<1.27,>=1.21.1 in c:\\users\\salma\\anaconda3\\lib\\site-packages (from requests<3.0.0,>=2.13.0->spacy) (1.26.7)\n",
      "Requirement already satisfied: certifi>=2017.4.17 in c:\\users\\salma\\anaconda3\\lib\\site-packages (from requests<3.0.0,>=2.13.0->spacy) (2021.10.8)\n",
      "Requirement already satisfied: idna<4,>=2.5 in c:\\users\\salma\\anaconda3\\lib\\site-packages (from requests<3.0.0,>=2.13.0->spacy) (3.2)\n",
      "Requirement already satisfied: charset-normalizer~=2.0.0 in c:\\users\\salma\\anaconda3\\lib\\site-packages (from requests<3.0.0,>=2.13.0->spacy) (2.0.4)\n",
      "Requirement already satisfied: colorama in c:\\users\\salma\\anaconda3\\lib\\site-packages (from tqdm<5.0.0,>=4.38.0->spacy) (0.4.4)\n",
      "Requirement already satisfied: click<9.0.0,>=7.1.1 in c:\\users\\salma\\anaconda3\\lib\\site-packages (from typer<0.5.0,>=0.3.0->spacy) (8.0.3)\n",
      "Requirement already satisfied: MarkupSafe>=0.23 in c:\\users\\salma\\anaconda3\\lib\\site-packages (from jinja2->spacy) (1.1.1)\n"
     ]
    }
   ],
   "source": [
    "!pip install spacy"
   ]
  },
  {
   "cell_type": "code",
   "execution_count": 4,
   "id": "2e672b87",
   "metadata": {},
   "outputs": [
    {
     "name": "stdout",
     "output_type": "stream",
     "text": [
      "Requirement already satisfied: nlp in c:\\users\\salma\\anaconda3\\lib\\site-packages (0.4.0)\n",
      "Requirement already satisfied: tqdm>=4.27 in c:\\users\\salma\\anaconda3\\lib\\site-packages (from nlp) (4.62.3)\n",
      "Requirement already satisfied: numpy in c:\\users\\salma\\anaconda3\\lib\\site-packages (from nlp) (1.20.3)\n",
      "Requirement already satisfied: pyarrow>=0.16.0 in c:\\users\\salma\\anaconda3\\lib\\site-packages (from nlp) (8.0.0)\n",
      "Requirement already satisfied: xxhash in c:\\users\\salma\\anaconda3\\lib\\site-packages (from nlp) (3.0.0)\n",
      "Requirement already satisfied: requests>=2.19.0 in c:\\users\\salma\\anaconda3\\lib\\site-packages (from nlp) (2.26.0)\n",
      "Requirement already satisfied: filelock in c:\\users\\salma\\anaconda3\\lib\\site-packages (from nlp) (3.3.1)\n",
      "Requirement already satisfied: pandas in c:\\users\\salma\\anaconda3\\lib\\site-packages (from nlp) (1.3.4)\n",
      "Requirement already satisfied: dill in c:\\users\\salma\\anaconda3\\lib\\site-packages (from nlp) (0.3.4)\n",
      "Requirement already satisfied: idna<4,>=2.5 in c:\\users\\salma\\anaconda3\\lib\\site-packages (from requests>=2.19.0->nlp) (3.2)\n",
      "Requirement already satisfied: charset-normalizer~=2.0.0 in c:\\users\\salma\\anaconda3\\lib\\site-packages (from requests>=2.19.0->nlp) (2.0.4)\n",
      "Requirement already satisfied: urllib3<1.27,>=1.21.1 in c:\\users\\salma\\anaconda3\\lib\\site-packages (from requests>=2.19.0->nlp) (1.26.7)\n",
      "Requirement already satisfied: certifi>=2017.4.17 in c:\\users\\salma\\anaconda3\\lib\\site-packages (from requests>=2.19.0->nlp) (2021.10.8)\n",
      "Requirement already satisfied: colorama in c:\\users\\salma\\anaconda3\\lib\\site-packages (from tqdm>=4.27->nlp) (0.4.4)\n",
      "Requirement already satisfied: python-dateutil>=2.7.3 in c:\\users\\salma\\anaconda3\\lib\\site-packages (from pandas->nlp) (2.8.2)\n",
      "Requirement already satisfied: pytz>=2017.3 in c:\\users\\salma\\anaconda3\\lib\\site-packages (from pandas->nlp) (2021.3)\n",
      "Requirement already satisfied: six>=1.5 in c:\\users\\salma\\anaconda3\\lib\\site-packages (from python-dateutil>=2.7.3->pandas->nlp) (1.16.0)\n"
     ]
    }
   ],
   "source": [
    "!pip install nlp"
   ]
  },
  {
   "cell_type": "code",
   "execution_count": 5,
   "id": "7da20bb3",
   "metadata": {},
   "outputs": [
    {
     "name": "stdout",
     "output_type": "stream",
     "text": [
      "[!] As of spaCy v3.0, shortcuts like 'en' are deprecated. Please use the full\n",
      "pipeline package name 'en_core_web_sm' instead.\n"
     ]
    },
    {
     "name": "stderr",
     "output_type": "stream",
     "text": [
      "Traceback (most recent call last):\n",
      "  File \"C:\\Users\\SaLmA\\anaconda3\\lib\\site-packages\\urllib3\\connection.py\", line 174, in _new_conn\n",
      "    conn = connection.create_connection(\n",
      "  File \"C:\\Users\\SaLmA\\anaconda3\\lib\\site-packages\\urllib3\\util\\connection.py\", line 73, in create_connection\n",
      "    for res in socket.getaddrinfo(host, port, family, socket.SOCK_STREAM):\n",
      "  File \"C:\\Users\\SaLmA\\anaconda3\\lib\\socket.py\", line 954, in getaddrinfo\n",
      "    for res in _socket.getaddrinfo(host, port, family, type, proto, flags):\n",
      "socket.gaierror: [Errno 11001] getaddrinfo failed\n",
      "\n",
      "During handling of the above exception, another exception occurred:\n",
      "\n",
      "Traceback (most recent call last):\n",
      "  File \"C:\\Users\\SaLmA\\anaconda3\\lib\\site-packages\\urllib3\\connectionpool.py\", line 699, in urlopen\n",
      "    httplib_response = self._make_request(\n",
      "  File \"C:\\Users\\SaLmA\\anaconda3\\lib\\site-packages\\urllib3\\connectionpool.py\", line 382, in _make_request\n",
      "    self._validate_conn(conn)\n",
      "  File \"C:\\Users\\SaLmA\\anaconda3\\lib\\site-packages\\urllib3\\connectionpool.py\", line 1010, in _validate_conn\n",
      "    conn.connect()\n",
      "  File \"C:\\Users\\SaLmA\\anaconda3\\lib\\site-packages\\urllib3\\connection.py\", line 358, in connect\n",
      "    conn = self._new_conn()\n",
      "  File \"C:\\Users\\SaLmA\\anaconda3\\lib\\site-packages\\urllib3\\connection.py\", line 186, in _new_conn\n",
      "    raise NewConnectionError(\n",
      "urllib3.exceptions.NewConnectionError: <urllib3.connection.HTTPSConnection object at 0x00000234349001C0>: Failed to establish a new connection: [Errno 11001] getaddrinfo failed\n",
      "\n",
      "During handling of the above exception, another exception occurred:\n",
      "\n",
      "Traceback (most recent call last):\n",
      "  File \"C:\\Users\\SaLmA\\anaconda3\\lib\\site-packages\\requests\\adapters.py\", line 439, in send\n",
      "    resp = conn.urlopen(\n",
      "  File \"C:\\Users\\SaLmA\\anaconda3\\lib\\site-packages\\urllib3\\connectionpool.py\", line 755, in urlopen\n",
      "    retries = retries.increment(\n",
      "  File \"C:\\Users\\SaLmA\\anaconda3\\lib\\site-packages\\urllib3\\util\\retry.py\", line 574, in increment\n",
      "    raise MaxRetryError(_pool, url, error or ResponseError(cause))\n",
      "urllib3.exceptions.MaxRetryError: HTTPSConnectionPool(host='raw.githubusercontent.com', port=443): Max retries exceeded with url: /explosion/spacy-models/master/compatibility.json (Caused by NewConnectionError('<urllib3.connection.HTTPSConnection object at 0x00000234349001C0>: Failed to establish a new connection: [Errno 11001] getaddrinfo failed'))\n",
      "\n",
      "During handling of the above exception, another exception occurred:\n",
      "\n",
      "Traceback (most recent call last):\n",
      "  File \"C:\\Users\\SaLmA\\anaconda3\\lib\\runpy.py\", line 197, in _run_module_as_main\n",
      "    return _run_code(code, main_globals, None,\n",
      "  File \"C:\\Users\\SaLmA\\anaconda3\\lib\\runpy.py\", line 87, in _run_code\n",
      "    exec(code, run_globals)\n",
      "  File \"C:\\Users\\SaLmA\\anaconda3\\lib\\site-packages\\spacy\\__main__.py\", line 4, in <module>\n",
      "    setup_cli()\n",
      "  File \"C:\\Users\\SaLmA\\anaconda3\\lib\\site-packages\\spacy\\cli\\_util.py\", line 71, in setup_cli\n",
      "    command(prog_name=COMMAND)\n",
      "  File \"C:\\Users\\SaLmA\\anaconda3\\lib\\site-packages\\click\\core.py\", line 1128, in __call__\n",
      "    return self.main(*args, **kwargs)\n",
      "  File \"C:\\Users\\SaLmA\\anaconda3\\lib\\site-packages\\click\\core.py\", line 1053, in main\n",
      "    rv = self.invoke(ctx)\n",
      "  File \"C:\\Users\\SaLmA\\anaconda3\\lib\\site-packages\\click\\core.py\", line 1659, in invoke\n",
      "    return _process_result(sub_ctx.command.invoke(sub_ctx))\n",
      "  File \"C:\\Users\\SaLmA\\anaconda3\\lib\\site-packages\\click\\core.py\", line 1395, in invoke\n",
      "    return ctx.invoke(self.callback, **ctx.params)\n",
      "  File \"C:\\Users\\SaLmA\\anaconda3\\lib\\site-packages\\click\\core.py\", line 754, in invoke\n",
      "    return __callback(*args, **kwargs)\n",
      "  File \"C:\\Users\\SaLmA\\anaconda3\\lib\\site-packages\\typer\\main.py\", line 500, in wrapper\n",
      "    return callback(**use_params)  # type: ignore\n",
      "  File \"C:\\Users\\SaLmA\\anaconda3\\lib\\site-packages\\spacy\\cli\\download.py\", line 35, in download_cli\n",
      "    download(model, direct, sdist, *ctx.args)\n",
      "  File \"C:\\Users\\SaLmA\\anaconda3\\lib\\site-packages\\spacy\\cli\\download.py\", line 67, in download\n",
      "    compatibility = get_compatibility()\n",
      "  File \"C:\\Users\\SaLmA\\anaconda3\\lib\\site-packages\\spacy\\cli\\download.py\", line 78, in get_compatibility\n",
      "    r = requests.get(about.__compatibility__)\n",
      "  File \"C:\\Users\\SaLmA\\anaconda3\\lib\\site-packages\\requests\\api.py\", line 75, in get\n",
      "    return request('get', url, params=params, **kwargs)\n",
      "  File \"C:\\Users\\SaLmA\\anaconda3\\lib\\site-packages\\requests\\api.py\", line 61, in request\n",
      "    return session.request(method=method, url=url, **kwargs)\n",
      "  File \"C:\\Users\\SaLmA\\anaconda3\\lib\\site-packages\\requests\\sessions.py\", line 542, in request\n",
      "    resp = self.send(prep, **send_kwargs)\n",
      "  File \"C:\\Users\\SaLmA\\anaconda3\\lib\\site-packages\\requests\\sessions.py\", line 655, in send\n",
      "    r = adapter.send(request, **kwargs)\n",
      "  File \"C:\\Users\\SaLmA\\anaconda3\\lib\\site-packages\\requests\\adapters.py\", line 516, in send\n",
      "    raise ConnectionError(e, request=request)\n",
      "requests.exceptions.ConnectionError: HTTPSConnectionPool(host='raw.githubusercontent.com', port=443): Max retries exceeded with url: /explosion/spacy-models/master/compatibility.json (Caused by NewConnectionError('<urllib3.connection.HTTPSConnection object at 0x00000234349001C0>: Failed to establish a new connection: [Errno 11001] getaddrinfo failed'))\n"
     ]
    }
   ],
   "source": [
    "!python -m spacy download en\n"
   ]
  },
  {
   "cell_type": "code",
   "execution_count": 6,
   "id": "d18f64bc",
   "metadata": {},
   "outputs": [
    {
     "name": "stderr",
     "output_type": "stream",
     "text": [
      "Traceback (most recent call last):\n",
      "  File \"C:\\Users\\SaLmA\\anaconda3\\lib\\site-packages\\urllib3\\connection.py\", line 174, in _new_conn\n",
      "    conn = connection.create_connection(\n",
      "  File \"C:\\Users\\SaLmA\\anaconda3\\lib\\site-packages\\urllib3\\util\\connection.py\", line 73, in create_connection\n",
      "    for res in socket.getaddrinfo(host, port, family, socket.SOCK_STREAM):\n",
      "  File \"C:\\Users\\SaLmA\\anaconda3\\lib\\socket.py\", line 954, in getaddrinfo\n",
      "    for res in _socket.getaddrinfo(host, port, family, type, proto, flags):\n",
      "socket.gaierror: [Errno 11001] getaddrinfo failed\n",
      "\n",
      "During handling of the above exception, another exception occurred:\n",
      "\n",
      "Traceback (most recent call last):\n",
      "  File \"C:\\Users\\SaLmA\\anaconda3\\lib\\site-packages\\urllib3\\connectionpool.py\", line 699, in urlopen\n",
      "    httplib_response = self._make_request(\n",
      "  File \"C:\\Users\\SaLmA\\anaconda3\\lib\\site-packages\\urllib3\\connectionpool.py\", line 382, in _make_request\n",
      "    self._validate_conn(conn)\n",
      "  File \"C:\\Users\\SaLmA\\anaconda3\\lib\\site-packages\\urllib3\\connectionpool.py\", line 1010, in _validate_conn\n",
      "    conn.connect()\n",
      "  File \"C:\\Users\\SaLmA\\anaconda3\\lib\\site-packages\\urllib3\\connection.py\", line 358, in connect\n",
      "    conn = self._new_conn()\n",
      "  File \"C:\\Users\\SaLmA\\anaconda3\\lib\\site-packages\\urllib3\\connection.py\", line 186, in _new_conn\n",
      "    raise NewConnectionError(\n",
      "urllib3.exceptions.NewConnectionError: <urllib3.connection.HTTPSConnection object at 0x000001E87974E190>: Failed to establish a new connection: [Errno 11001] getaddrinfo failed\n",
      "\n",
      "During handling of the above exception, another exception occurred:\n",
      "\n",
      "Traceback (most recent call last):\n",
      "  File \"C:\\Users\\SaLmA\\anaconda3\\lib\\site-packages\\requests\\adapters.py\", line 439, in send\n",
      "    resp = conn.urlopen(\n",
      "  File \"C:\\Users\\SaLmA\\anaconda3\\lib\\site-packages\\urllib3\\connectionpool.py\", line 755, in urlopen\n",
      "    retries = retries.increment(\n",
      "  File \"C:\\Users\\SaLmA\\anaconda3\\lib\\site-packages\\urllib3\\util\\retry.py\", line 574, in increment\n",
      "    raise MaxRetryError(_pool, url, error or ResponseError(cause))\n",
      "urllib3.exceptions.MaxRetryError: HTTPSConnectionPool(host='raw.githubusercontent.com', port=443): Max retries exceeded with url: /explosion/spacy-models/master/compatibility.json (Caused by NewConnectionError('<urllib3.connection.HTTPSConnection object at 0x000001E87974E190>: Failed to establish a new connection: [Errno 11001] getaddrinfo failed'))\n",
      "\n",
      "During handling of the above exception, another exception occurred:\n",
      "\n",
      "Traceback (most recent call last):\n",
      "  File \"C:\\Users\\SaLmA\\anaconda3\\lib\\runpy.py\", line 197, in _run_module_as_main\n",
      "    return _run_code(code, main_globals, None,\n",
      "  File \"C:\\Users\\SaLmA\\anaconda3\\lib\\runpy.py\", line 87, in _run_code\n",
      "    exec(code, run_globals)\n",
      "  File \"C:\\Users\\SaLmA\\anaconda3\\lib\\site-packages\\spacy\\__main__.py\", line 4, in <module>\n",
      "    setup_cli()\n",
      "  File \"C:\\Users\\SaLmA\\anaconda3\\lib\\site-packages\\spacy\\cli\\_util.py\", line 71, in setup_cli\n",
      "    command(prog_name=COMMAND)\n",
      "  File \"C:\\Users\\SaLmA\\anaconda3\\lib\\site-packages\\click\\core.py\", line 1128, in __call__\n",
      "    return self.main(*args, **kwargs)\n",
      "  File \"C:\\Users\\SaLmA\\anaconda3\\lib\\site-packages\\click\\core.py\", line 1053, in main\n",
      "    rv = self.invoke(ctx)\n",
      "  File \"C:\\Users\\SaLmA\\anaconda3\\lib\\site-packages\\click\\core.py\", line 1659, in invoke\n",
      "    return _process_result(sub_ctx.command.invoke(sub_ctx))\n",
      "  File \"C:\\Users\\SaLmA\\anaconda3\\lib\\site-packages\\click\\core.py\", line 1395, in invoke\n",
      "    return ctx.invoke(self.callback, **ctx.params)\n",
      "  File \"C:\\Users\\SaLmA\\anaconda3\\lib\\site-packages\\click\\core.py\", line 754, in invoke\n",
      "    return __callback(*args, **kwargs)\n",
      "  File \"C:\\Users\\SaLmA\\anaconda3\\lib\\site-packages\\typer\\main.py\", line 500, in wrapper\n",
      "    return callback(**use_params)  # type: ignore\n",
      "  File \"C:\\Users\\SaLmA\\anaconda3\\lib\\site-packages\\spacy\\cli\\download.py\", line 35, in download_cli\n",
      "    download(model, direct, sdist, *ctx.args)\n",
      "  File \"C:\\Users\\SaLmA\\anaconda3\\lib\\site-packages\\spacy\\cli\\download.py\", line 67, in download\n",
      "    compatibility = get_compatibility()\n",
      "  File \"C:\\Users\\SaLmA\\anaconda3\\lib\\site-packages\\spacy\\cli\\download.py\", line 78, in get_compatibility\n",
      "    r = requests.get(about.__compatibility__)\n",
      "  File \"C:\\Users\\SaLmA\\anaconda3\\lib\\site-packages\\requests\\api.py\", line 75, in get\n",
      "    return request('get', url, params=params, **kwargs)\n",
      "  File \"C:\\Users\\SaLmA\\anaconda3\\lib\\site-packages\\requests\\api.py\", line 61, in request\n",
      "    return session.request(method=method, url=url, **kwargs)\n",
      "  File \"C:\\Users\\SaLmA\\anaconda3\\lib\\site-packages\\requests\\sessions.py\", line 542, in request\n",
      "    resp = self.send(prep, **send_kwargs)\n",
      "  File \"C:\\Users\\SaLmA\\anaconda3\\lib\\site-packages\\requests\\sessions.py\", line 655, in send\n",
      "    r = adapter.send(request, **kwargs)\n",
      "  File \"C:\\Users\\SaLmA\\anaconda3\\lib\\site-packages\\requests\\adapters.py\", line 516, in send\n",
      "    raise ConnectionError(e, request=request)\n",
      "requests.exceptions.ConnectionError: HTTPSConnectionPool(host='raw.githubusercontent.com', port=443): Max retries exceeded with url: /explosion/spacy-models/master/compatibility.json (Caused by NewConnectionError('<urllib3.connection.HTTPSConnection object at 0x000001E87974E190>: Failed to establish a new connection: [Errno 11001] getaddrinfo failed'))\n"
     ]
    }
   ],
   "source": [
    "!python -m spacy download en_core_web_lg"
   ]
  },
  {
   "cell_type": "code",
   "execution_count": 7,
   "id": "696a3f42",
   "metadata": {},
   "outputs": [],
   "source": [
    "import numpy as np\n",
    "import pandas as pd\n",
    "import re\n",
    "import string\n",
    "import math\n",
    "import os\n",
    "import gensim\n",
    "import spacy \n",
    "nlp=spacy.load('en_core_web_lg')"
   ]
  },
  {
   "cell_type": "markdown",
   "id": "ffcdf3bb",
   "metadata": {},
   "source": [
    "# reading  data\n"
   ]
  },
  {
   "cell_type": "code",
   "execution_count": 8,
   "id": "58e136b2",
   "metadata": {},
   "outputs": [
    {
     "data": {
      "text/html": [
       "<div>\n",
       "<style scoped>\n",
       "    .dataframe tbody tr th:only-of-type {\n",
       "        vertical-align: middle;\n",
       "    }\n",
       "\n",
       "    .dataframe tbody tr th {\n",
       "        vertical-align: top;\n",
       "    }\n",
       "\n",
       "    .dataframe thead th {\n",
       "        text-align: right;\n",
       "    }\n",
       "</style>\n",
       "<table border=\"1\" class=\"dataframe\">\n",
       "  <thead>\n",
       "    <tr style=\"text-align: right;\">\n",
       "      <th></th>\n",
       "      <th>Unique_ID</th>\n",
       "      <th>text1</th>\n",
       "      <th>text2</th>\n",
       "    </tr>\n",
       "  </thead>\n",
       "  <tbody>\n",
       "    <tr>\n",
       "      <th>0</th>\n",
       "      <td>0</td>\n",
       "      <td>savvy searchers fail to spot ads internet sear...</td>\n",
       "      <td>newcastle 2-1 bolton kieron dyer smashed home ...</td>\n",
       "    </tr>\n",
       "    <tr>\n",
       "      <th>1</th>\n",
       "      <td>1</td>\n",
       "      <td>millions to miss out on the net by 2025  40% o...</td>\n",
       "      <td>nasdaq planning $100m share sale the owner of ...</td>\n",
       "    </tr>\n",
       "    <tr>\n",
       "      <th>2</th>\n",
       "      <td>2</td>\n",
       "      <td>young debut cut short by ginepri fifteen-year-...</td>\n",
       "      <td>ruddock backs yapp s credentials wales coach m...</td>\n",
       "    </tr>\n",
       "    <tr>\n",
       "      <th>3</th>\n",
       "      <td>3</td>\n",
       "      <td>diageo to buy us wine firm diageo  the world s...</td>\n",
       "      <td>mci shares climb on takeover bid shares in us ...</td>\n",
       "    </tr>\n",
       "    <tr>\n",
       "      <th>4</th>\n",
       "      <td>4</td>\n",
       "      <td>be careful how you code a new european directi...</td>\n",
       "      <td>media gadgets get moving pocket-sized devices ...</td>\n",
       "    </tr>\n",
       "  </tbody>\n",
       "</table>\n",
       "</div>"
      ],
      "text/plain": [
       "   Unique_ID                                              text1  \\\n",
       "0          0  savvy searchers fail to spot ads internet sear...   \n",
       "1          1  millions to miss out on the net by 2025  40% o...   \n",
       "2          2  young debut cut short by ginepri fifteen-year-...   \n",
       "3          3  diageo to buy us wine firm diageo  the world s...   \n",
       "4          4  be careful how you code a new european directi...   \n",
       "\n",
       "                                               text2  \n",
       "0  newcastle 2-1 bolton kieron dyer smashed home ...  \n",
       "1  nasdaq planning $100m share sale the owner of ...  \n",
       "2  ruddock backs yapp s credentials wales coach m...  \n",
       "3  mci shares climb on takeover bid shares in us ...  \n",
       "4  media gadgets get moving pocket-sized devices ...  "
      ]
     },
     "execution_count": 8,
     "metadata": {},
     "output_type": "execute_result"
    }
   ],
   "source": [
    "data = pd.read_csv('text similarity\\Text_Similarity_Dataset.csv')\n",
    "data.head()"
   ]
  },
  {
   "cell_type": "markdown",
   "id": "607a17b4",
   "metadata": {},
   "source": [
    "# preprocessing"
   ]
  },
  {
   "cell_type": "code",
   "execution_count": 9,
   "id": "10a970fb",
   "metadata": {},
   "outputs": [
    {
     "data": {
      "text/plain": [
       "'savvy searchers fail to spot ads internet search engine users are an odd mix of naive and sophisticated  suggests a report into search habits.  the report by the us pew research center reveals that 87% of searchers usually find what they were looking for when using a search engine. it also shows that few can spot the difference between paid-for results and organic ones. the report reveals that 84% of net users say they regularly use google  ask jeeves  msn and yahoo when online.  almost 50% of those questioned said they would trust search engines much less  if they knew information about who paid for results was being hidden. according to figures gathered by the pew researchers the average users spends about 43 minutes per month carrying out 34 separate searches and looks at 1.9 webpages for each hunt. a significant chunk of net users  36%  carry out a search at least weekly and 29% of those asked only look every few weeks. for 44% of those questioned  the information they are looking for is critical to what they are doing and is information they simply have to find.  search engine users also tend to be very loyal and once they have found a site they feel they can trust tend to stick with it. according to pew research 44% of searchers use just a single search engine  48% use two or three and a small number  7%  consult more than three sites. tony macklin  spokesman for ask jeeves  said the results reflected its own research which showed that people use different search engines because the way the sites gather information means they can provide different results for the same query. despite this liking for search sites half of those questioned said they could get the same information via other routes. a small number  17%  said they wouldn t really miss search engines if they did not exist. the remaining 33% said they could not live without search sites. more than two-thirds of those questioned  68%  said they thought that the results they were presented with were a fair and unbiased selection of the information on a topic that can be found on the net. alongside the growing sophistication of net users is a lack of awareness about paid-for results that many search engines provide alongside lists of websites found by indexing the web. of those asked  62% were unaware that someone has paid for some of the results they see when they carry out a search. only 18% of all searchers say they can tell which results are paid for and which are not. said the pew report:  this finding is ironic  since nearly half of all users say they would stop using search engines if they thought engines were not being clear about how they presented paid results.  commenting mr macklin said sponsored results must be clearly marked and though they might help with some queries user testing showed that people need to be able to spot the difference.'"
      ]
     },
     "execution_count": 9,
     "metadata": {},
     "output_type": "execute_result"
    }
   ],
   "source": [
    "data['text1'][0] # read each column seperately"
   ]
  },
  {
   "cell_type": "code",
   "execution_count": 10,
   "id": "0eea4fe5",
   "metadata": {},
   "outputs": [
    {
     "data": {
      "text/plain": [
       "'newcastle 2-1 bolton kieron dyer smashed home the winner to end bolton s 10-game unbeaten run.  lee bowyer put newcastle ahead when he fed stephen carr on the right flank  then sprinted into the area to power home a header from the resultant cross. wanderers hit back through stelios giannakopoulos  who ended a fluid passing move with a well-struck volley. but dyer had the last word in a game of few chances  pouncing on a loose ball after alan shearer s shot was blocked and firing into the top corner. neither side lacked urgency in the early stages of the game  with plenty of tackles flying in  but opportunities in front of goal were harder to come by. bolton keeper jussi jaaskelainen had to make two saves in quick succession midway through the first-half - keeping out shearer s low shot and dyer s close-range header - but that was the only goalmouth action of note. and it was almost out of nothing that the magpies took the lead on 35 minutes. bowyer found space with a neat turn on the half-way line and striding forward picked out carr to his right. he then continued his run and with perfect timing made his way into the box where he met carr s cross with a downward header into the far corner. bolton had produced little going forward at this point but they responded well.  they were level within six minutes thanks to a smart finish from giannakopoulos. jay-jay okocha twisted and turned on the edge of the area and after a neat exchange of passes involving kevin davies and gary speed  the greek striker found the bottom corner with a first-time strike. the magpies were opened up again before half-time as davies set giannakopoulos in space and given had to block at his near post. but the home side survived  and they should have re-taken the lead with the first meaningful attack of the second half. fernando hierro cynically chopped down dyer on the edge of the area with the midfielder clean through. but the veteran defender escaped with a booking as there were other defenders nearby  and from the resultant free-kick laurent robert curled the ball just wide. bolton were creating little going forward and they seemed content to frustrate the magpies. their strategy seemed to be working until the 69th minute. alan shearer s snap-shot was charged down and dyer reacted first to smash the ball past the despairing jaaskelainen from six yards.  - bolton boss sam allardyce  i am bitterly disappointed with the result  but i am probably more disappointed with the second-half performance.  in the first half we had put them under a lot of pressure  and our goal matched theirs in quality.  i thought it would lift us and that they might be tired after playing a lot of games  but unfortunately we were not up for the battle in the second half.  we allowed them to heap too much pressure on us  and in the end we cracked.    - newcastle boss graeme souness  we deserved the win. we had a really good second half.  bolton are a difficult side to play. you have to match them physically first but we did that  and then we played some football.  we had a slow first 45 minutes when we looked a bit tired but we got going after that. the scoreline flattered them and we could have had one or two more goals.  newcastle: given  carr  boumsong  bramble  babayaro  dyer  faye  bowyer  robert (jenas 77)  ameobi  shearer. subs not used: butt  harper  milner  hughes. goals: bowyer 35  dyer 69. bolton: jaaskelainen  hunt (fadiga 14)  n gotty  ben haim  candela  giannakopoulos  okocha (vaz te 77)  hierro (campo 64)  speed  gardner  davies. subs not used: jaidi  poole. booked: ben haim  hierro. goals: giannakopoulos 41. att: 50 430 ref: s dunn (gloucestershire).'"
      ]
     },
     "execution_count": 10,
     "metadata": {},
     "output_type": "execute_result"
    }
   ],
   "source": [
    "data['text2'][0]"
   ]
  },
  {
   "cell_type": "code",
   "execution_count": 11,
   "id": "ec301b99",
   "metadata": {},
   "outputs": [
    {
     "name": "stdout",
     "output_type": "stream",
     "text": [
      "savvy searchers fail to spot ads internet search engine users are an odd mix of naive and sophisticated  suggests a report into search habits.  the report by the us pew research center reveals that 87% of searchers usually find what they were looking for when using a search engine. it also shows that few can spot the difference between paid-for results and organic ones. the report reveals that 84% of net users say they regularly use google  ask jeeves  msn and yahoo when online.  almost 50% of those questioned said they would trust search engines much less  if they knew information about who paid for results was being hidden. according to figures gathered by the pew researchers the average users spends about 43 minutes per month carrying out 34 separate searches and looks at 1.9 webpages for each hunt. a significant chunk of net users  36%  carry out a search at least weekly and 29% of those asked only look every few weeks. for 44% of those questioned  the information they are looking for is critical to what they are doing and is information they simply have to find.  search engine users also tend to be very loyal and once they have found a site they feel they can trust tend to stick with it. according to pew research 44% of searchers use just a single search engine  48% use two or three and a small number  7%  consult more than three sites. tony macklin  spokesman for ask jeeves  said the results reflected its own research which showed that people use different search engines because the way the sites gather information means they can provide different results for the same query. despite this liking for search sites half of those questioned said they could get the same information via other routes. a small number  17%  said they wouldn t really miss search engines if they did not exist. the remaining 33% said they could not live without search sites. more than two-thirds of those questioned  68%  said they thought that the results they were presented with were a fair and unbiased selection of the information on a topic that can be found on the net. alongside the growing sophistication of net users is a lack of awareness about paid-for results that many search engines provide alongside lists of websites found by indexing the web. of those asked  62% were unaware that someone has paid for some of the results they see when they carry out a search. only 18% of all searchers say they can tell which results are paid for and which are not. said the pew report:  this finding is ironic  since nearly half of all users say they would stop using search engines if they thought engines were not being clear about how they presented paid results.  commenting mr macklin said sponsored results must be clearly marked and though they might help with some queries user testing showed that people need to be able to spot the difference.\n"
     ]
    }
   ],
   "source": [
    "#lowercase\n",
    "print(data['text1'][0].lower())\n"
   ]
  },
  {
   "cell_type": "code",
   "execution_count": 12,
   "id": "86851bb3",
   "metadata": {},
   "outputs": [
    {
     "name": "stdout",
     "output_type": "stream",
     "text": [
      "newcastle 2-1 bolton kieron dyer smashed home the winner to end bolton s 10-game unbeaten run.  lee bowyer put newcastle ahead when he fed stephen carr on the right flank  then sprinted into the area to power home a header from the resultant cross. wanderers hit back through stelios giannakopoulos  who ended a fluid passing move with a well-struck volley. but dyer had the last word in a game of few chances  pouncing on a loose ball after alan shearer s shot was blocked and firing into the top corner. neither side lacked urgency in the early stages of the game  with plenty of tackles flying in  but opportunities in front of goal were harder to come by. bolton keeper jussi jaaskelainen had to make two saves in quick succession midway through the first-half - keeping out shearer s low shot and dyer s close-range header - but that was the only goalmouth action of note. and it was almost out of nothing that the magpies took the lead on 35 minutes. bowyer found space with a neat turn on the half-way line and striding forward picked out carr to his right. he then continued his run and with perfect timing made his way into the box where he met carr s cross with a downward header into the far corner. bolton had produced little going forward at this point but they responded well.  they were level within six minutes thanks to a smart finish from giannakopoulos. jay-jay okocha twisted and turned on the edge of the area and after a neat exchange of passes involving kevin davies and gary speed  the greek striker found the bottom corner with a first-time strike. the magpies were opened up again before half-time as davies set giannakopoulos in space and given had to block at his near post. but the home side survived  and they should have re-taken the lead with the first meaningful attack of the second half. fernando hierro cynically chopped down dyer on the edge of the area with the midfielder clean through. but the veteran defender escaped with a booking as there were other defenders nearby  and from the resultant free-kick laurent robert curled the ball just wide. bolton were creating little going forward and they seemed content to frustrate the magpies. their strategy seemed to be working until the 69th minute. alan shearer s snap-shot was charged down and dyer reacted first to smash the ball past the despairing jaaskelainen from six yards.  - bolton boss sam allardyce  i am bitterly disappointed with the result  but i am probably more disappointed with the second-half performance.  in the first half we had put them under a lot of pressure  and our goal matched theirs in quality.  i thought it would lift us and that they might be tired after playing a lot of games  but unfortunately we were not up for the battle in the second half.  we allowed them to heap too much pressure on us  and in the end we cracked.    - newcastle boss graeme souness  we deserved the win. we had a really good second half.  bolton are a difficult side to play. you have to match them physically first but we did that  and then we played some football.  we had a slow first 45 minutes when we looked a bit tired but we got going after that. the scoreline flattered them and we could have had one or two more goals.  newcastle: given  carr  boumsong  bramble  babayaro  dyer  faye  bowyer  robert (jenas 77)  ameobi  shearer. subs not used: butt  harper  milner  hughes. goals: bowyer 35  dyer 69. bolton: jaaskelainen  hunt (fadiga 14)  n gotty  ben haim  candela  giannakopoulos  okocha (vaz te 77)  hierro (campo 64)  speed  gardner  davies. subs not used: jaidi  poole. booked: ben haim  hierro. goals: giannakopoulos 41. att: 50 430 ref: s dunn (gloucestershire).\n"
     ]
    }
   ],
   "source": [
    "print(data['text2'][0].lower())\n"
   ]
  },
  {
   "cell_type": "code",
   "execution_count": 13,
   "id": "273154c1",
   "metadata": {},
   "outputs": [
    {
     "data": {
      "text/plain": [
       "'!\"#$%&\\'()*+,-./:;<=>?@[\\\\]^_`{|}~'"
      ]
     },
     "execution_count": 13,
     "metadata": {},
     "output_type": "execute_result"
    }
   ],
   "source": [
    "string.punctuation"
   ]
  },
  {
   "cell_type": "code",
   "execution_count": 14,
   "id": "15774ec1",
   "metadata": {},
   "outputs": [
    {
     "data": {
      "text/plain": [
       "'savvy searchers fail to spot ads internet search engine users are an odd mix of naive and sophisticated  suggests a report into search habits   the report by the us pew research center reveals that 87  of searchers usually find what they were looking for when using a search engine  it also shows that few can spot the difference between paid for results and organic ones  the report reveals that 84  of net users say they regularly use google  ask jeeves  msn and yahoo when online   almost 50  of those questioned said they would trust search engines much less  if they knew information about who paid for results was being hidden  according to figures gathered by the pew researchers the average users spends about 43 minutes per month carrying out 34 separate searches and looks at 1 9 webpages for each hunt  a significant chunk of net users  36   carry out a search at least weekly and 29  of those asked only look every few weeks  for 44  of those questioned  the information they are looking for is critical to what they are doing and is information they simply have to find   search engine users also tend to be very loyal and once they have found a site they feel they can trust tend to stick with it  according to pew research 44  of searchers use just a single search engine  48  use two or three and a small number  7   consult more than three sites  tony macklin  spokesman for ask jeeves  said the results reflected its own research which showed that people use different search engines because the way the sites gather information means they can provide different results for the same query  despite this liking for search sites half of those questioned said they could get the same information via other routes  a small number  17   said they wouldn t really miss search engines if they did not exist  the remaining 33  said they could not live without search sites  more than two thirds of those questioned  68   said they thought that the results they were presented with were a fair and unbiased selection of the information on a topic that can be found on the net  alongside the growing sophistication of net users is a lack of awareness about paid for results that many search engines provide alongside lists of websites found by indexing the web  of those asked  62  were unaware that someone has paid for some of the results they see when they carry out a search  only 18  of all searchers say they can tell which results are paid for and which are not  said the pew report   this finding is ironic  since nearly half of all users say they would stop using search engines if they thought engines were not being clear about how they presented paid results   commenting mr macklin said sponsored results must be clearly marked and though they might help with some queries user testing showed that people need to be able to spot the difference '"
      ]
     },
     "execution_count": 14,
     "metadata": {},
     "output_type": "execute_result"
    }
   ],
   "source": [
    "#remove punctuation\n",
    "data['text1'] = data['text1'].apply(lambda x: re.sub('[%s]' % re.escape(string.punctuation), ' ' , x))\n",
    "data['text1'][0]"
   ]
  },
  {
   "cell_type": "code",
   "execution_count": 15,
   "id": "28df2642",
   "metadata": {},
   "outputs": [
    {
     "data": {
      "text/plain": [
       "'newcastle 2 1 bolton kieron dyer smashed home the winner to end bolton s 10 game unbeaten run   lee bowyer put newcastle ahead when he fed stephen carr on the right flank  then sprinted into the area to power home a header from the resultant cross  wanderers hit back through stelios giannakopoulos  who ended a fluid passing move with a well struck volley  but dyer had the last word in a game of few chances  pouncing on a loose ball after alan shearer s shot was blocked and firing into the top corner  neither side lacked urgency in the early stages of the game  with plenty of tackles flying in  but opportunities in front of goal were harder to come by  bolton keeper jussi jaaskelainen had to make two saves in quick succession midway through the first half   keeping out shearer s low shot and dyer s close range header   but that was the only goalmouth action of note  and it was almost out of nothing that the magpies took the lead on 35 minutes  bowyer found space with a neat turn on the half way line and striding forward picked out carr to his right  he then continued his run and with perfect timing made his way into the box where he met carr s cross with a downward header into the far corner  bolton had produced little going forward at this point but they responded well   they were level within six minutes thanks to a smart finish from giannakopoulos  jay jay okocha twisted and turned on the edge of the area and after a neat exchange of passes involving kevin davies and gary speed  the greek striker found the bottom corner with a first time strike  the magpies were opened up again before half time as davies set giannakopoulos in space and given had to block at his near post  but the home side survived  and they should have re taken the lead with the first meaningful attack of the second half  fernando hierro cynically chopped down dyer on the edge of the area with the midfielder clean through  but the veteran defender escaped with a booking as there were other defenders nearby  and from the resultant free kick laurent robert curled the ball just wide  bolton were creating little going forward and they seemed content to frustrate the magpies  their strategy seemed to be working until the 69th minute  alan shearer s snap shot was charged down and dyer reacted first to smash the ball past the despairing jaaskelainen from six yards     bolton boss sam allardyce  i am bitterly disappointed with the result  but i am probably more disappointed with the second half performance   in the first half we had put them under a lot of pressure  and our goal matched theirs in quality   i thought it would lift us and that they might be tired after playing a lot of games  but unfortunately we were not up for the battle in the second half   we allowed them to heap too much pressure on us  and in the end we cracked       newcastle boss graeme souness  we deserved the win  we had a really good second half   bolton are a difficult side to play  you have to match them physically first but we did that  and then we played some football   we had a slow first 45 minutes when we looked a bit tired but we got going after that  the scoreline flattered them and we could have had one or two more goals   newcastle  given  carr  boumsong  bramble  babayaro  dyer  faye  bowyer  robert  jenas 77   ameobi  shearer  subs not used  butt  harper  milner  hughes  goals  bowyer 35  dyer 69  bolton  jaaskelainen  hunt  fadiga 14   n gotty  ben haim  candela  giannakopoulos  okocha  vaz te 77   hierro  campo 64   speed  gardner  davies  subs not used  jaidi  poole  booked  ben haim  hierro  goals  giannakopoulos 41  att  50 430 ref  s dunn  gloucestershire  '"
      ]
     },
     "execution_count": 15,
     "metadata": {},
     "output_type": "execute_result"
    }
   ],
   "source": [
    "data['text2'] = data['text2'].apply(lambda x: re.sub('[%s]' % re.escape(string.punctuation), ' ' , x))\n",
    "data['text2'][0]"
   ]
  },
  {
   "cell_type": "code",
   "execution_count": 16,
   "id": "b6d074fa",
   "metadata": {},
   "outputs": [
    {
     "name": "stderr",
     "output_type": "stream",
     "text": [
      "C:\\Users\\SaLmA\\AppData\\Local\\Temp/ipykernel_14772/265382134.py:2: SettingWithCopyWarning: \n",
      "A value is trying to be set on a copy of a slice from a DataFrame\n",
      "\n",
      "See the caveats in the documentation: https://pandas.pydata.org/pandas-docs/stable/user_guide/indexing.html#returning-a-view-versus-a-copy\n",
      "  data['text1'][0] = ''.join([i for i in data['text1'][0] if not i.isdigit()])\n"
     ]
    },
    {
     "data": {
      "text/plain": [
       "'savvy searchers fail to spot ads internet search engine users are an odd mix of naive and sophisticated  suggests a report into search habits   the report by the us pew research center reveals that   of searchers usually find what they were looking for when using a search engine  it also shows that few can spot the difference between paid for results and organic ones  the report reveals that   of net users say they regularly use google  ask jeeves  msn and yahoo when online   almost   of those questioned said they would trust search engines much less  if they knew information about who paid for results was being hidden  according to figures gathered by the pew researchers the average users spends about  minutes per month carrying out  separate searches and looks at   webpages for each hunt  a significant chunk of net users     carry out a search at least weekly and   of those asked only look every few weeks  for   of those questioned  the information they are looking for is critical to what they are doing and is information they simply have to find   search engine users also tend to be very loyal and once they have found a site they feel they can trust tend to stick with it  according to pew research   of searchers use just a single search engine    use two or three and a small number     consult more than three sites  tony macklin  spokesman for ask jeeves  said the results reflected its own research which showed that people use different search engines because the way the sites gather information means they can provide different results for the same query  despite this liking for search sites half of those questioned said they could get the same information via other routes  a small number     said they wouldn t really miss search engines if they did not exist  the remaining   said they could not live without search sites  more than two thirds of those questioned     said they thought that the results they were presented with were a fair and unbiased selection of the information on a topic that can be found on the net  alongside the growing sophistication of net users is a lack of awareness about paid for results that many search engines provide alongside lists of websites found by indexing the web  of those asked    were unaware that someone has paid for some of the results they see when they carry out a search  only   of all searchers say they can tell which results are paid for and which are not  said the pew report   this finding is ironic  since nearly half of all users say they would stop using search engines if they thought engines were not being clear about how they presented paid results   commenting mr macklin said sponsored results must be clearly marked and though they might help with some queries user testing showed that people need to be able to spot the difference '"
      ]
     },
     "execution_count": 16,
     "metadata": {},
     "output_type": "execute_result"
    }
   ],
   "source": [
    "#remove numbers \n",
    "data['text1'][0] = ''.join([i for i in data['text1'][0] if not i.isdigit()])\n",
    "data['text1'][0]"
   ]
  },
  {
   "cell_type": "code",
   "execution_count": 17,
   "id": "fa1b9d9c",
   "metadata": {},
   "outputs": [
    {
     "name": "stderr",
     "output_type": "stream",
     "text": [
      "C:\\Users\\SaLmA\\AppData\\Local\\Temp/ipykernel_14772/4096739572.py:1: SettingWithCopyWarning: \n",
      "A value is trying to be set on a copy of a slice from a DataFrame\n",
      "\n",
      "See the caveats in the documentation: https://pandas.pydata.org/pandas-docs/stable/user_guide/indexing.html#returning-a-view-versus-a-copy\n",
      "  data['text2'][0] = ''.join([i for i in data['text1'][0] if not i.isdigit()])\n"
     ]
    },
    {
     "data": {
      "text/plain": [
       "'savvy searchers fail to spot ads internet search engine users are an odd mix of naive and sophisticated  suggests a report into search habits   the report by the us pew research center reveals that   of searchers usually find what they were looking for when using a search engine  it also shows that few can spot the difference between paid for results and organic ones  the report reveals that   of net users say they regularly use google  ask jeeves  msn and yahoo when online   almost   of those questioned said they would trust search engines much less  if they knew information about who paid for results was being hidden  according to figures gathered by the pew researchers the average users spends about  minutes per month carrying out  separate searches and looks at   webpages for each hunt  a significant chunk of net users     carry out a search at least weekly and   of those asked only look every few weeks  for   of those questioned  the information they are looking for is critical to what they are doing and is information they simply have to find   search engine users also tend to be very loyal and once they have found a site they feel they can trust tend to stick with it  according to pew research   of searchers use just a single search engine    use two or three and a small number     consult more than three sites  tony macklin  spokesman for ask jeeves  said the results reflected its own research which showed that people use different search engines because the way the sites gather information means they can provide different results for the same query  despite this liking for search sites half of those questioned said they could get the same information via other routes  a small number     said they wouldn t really miss search engines if they did not exist  the remaining   said they could not live without search sites  more than two thirds of those questioned     said they thought that the results they were presented with were a fair and unbiased selection of the information on a topic that can be found on the net  alongside the growing sophistication of net users is a lack of awareness about paid for results that many search engines provide alongside lists of websites found by indexing the web  of those asked    were unaware that someone has paid for some of the results they see when they carry out a search  only   of all searchers say they can tell which results are paid for and which are not  said the pew report   this finding is ironic  since nearly half of all users say they would stop using search engines if they thought engines were not being clear about how they presented paid results   commenting mr macklin said sponsored results must be clearly marked and though they might help with some queries user testing showed that people need to be able to spot the difference '"
      ]
     },
     "execution_count": 17,
     "metadata": {},
     "output_type": "execute_result"
    }
   ],
   "source": [
    "data['text2'][0] = ''.join([i for i in data['text1'][0] if not i.isdigit()])\n",
    "data['text2'][0]\n"
   ]
  },
  {
   "cell_type": "code",
   "execution_count": 18,
   "id": "ec55b2ae",
   "metadata": {},
   "outputs": [
    {
     "data": {
      "text/plain": [
       "'savvy searchers fail spot ads internet search engine users odd mix naive sophisticated suggests report search habits report us pew research center reveals searchers usually find looking using search engine also shows spot difference paid results organic ones report reveals net users say regularly use google ask jeeves msn yahoo online almost questioned said would trust search engines much less knew information paid results hidden according figures gathered pew researchers average users spends minutes per month carrying separate searches looks webpages hunt significant chunk net users carry search least weekly asked look every weeks questioned information looking critical information simply find search engine users also tend loyal found site feel trust tend stick according pew research searchers use single search engine use two three small number consult three sites tony macklin spokesman ask jeeves said results reflected research showed people use different search engines way sites gather information means provide different results query despite liking search sites half questioned said could get information via routes small number said really miss search engines exist remaining said could live without search sites two thirds questioned said thought results presented fair unbiased selection information topic found net alongside growing sophistication net users lack awareness paid results many search engines provide alongside lists websites found indexing web asked unaware someone paid results see carry search searchers say tell results paid said pew report finding ironic since nearly half users say would stop using search engines thought engines clear presented paid results commenting mr macklin said sponsored results must clearly marked though might help queries user testing showed people need able spot difference'"
      ]
     },
     "execution_count": 18,
     "metadata": {},
     "output_type": "execute_result"
    }
   ],
   "source": [
    "#removing stopwords of text1 column\n",
    "from nltk.corpus import stopwords\n",
    "stop_words = set(stopwords.words('english'))\n",
    "stop_words.add('subject')\n",
    "stop_words.add('http')\n",
    "def remove_stopwords(text1):              \n",
    "    return \" \".join([word for word in str(text1).split() if word not in stop_words])\n",
    "data['text1'] = data['text1'].apply(lambda x: remove_stopwords(x))\n",
    "data['text1'][0]"
   ]
  },
  {
   "cell_type": "code",
   "execution_count": 19,
   "id": "55072811",
   "metadata": {},
   "outputs": [
    {
     "data": {
      "text/plain": [
       "'savvy searchers fail spot ads internet search engine users odd mix naive sophisticated suggests report search habits report us pew research center reveals searchers usually find looking using search engine also shows spot difference paid results organic ones report reveals net users say regularly use google ask jeeves msn yahoo online almost questioned said would trust search engines much less knew information paid results hidden according figures gathered pew researchers average users spends minutes per month carrying separate searches looks webpages hunt significant chunk net users carry search least weekly asked look every weeks questioned information looking critical information simply find search engine users also tend loyal found site feel trust tend stick according pew research searchers use single search engine use two three small number consult three sites tony macklin spokesman ask jeeves said results reflected research showed people use different search engines way sites gather information means provide different results query despite liking search sites half questioned said could get information via routes small number said really miss search engines exist remaining said could live without search sites two thirds questioned said thought results presented fair unbiased selection information topic found net alongside growing sophistication net users lack awareness paid results many search engines provide alongside lists websites found indexing web asked unaware someone paid results see carry search searchers say tell results paid said pew report finding ironic since nearly half users say would stop using search engines thought engines clear presented paid results commenting mr macklin said sponsored results must clearly marked though might help queries user testing showed people need able spot difference'"
      ]
     },
     "execution_count": 19,
     "metadata": {},
     "output_type": "execute_result"
    }
   ],
   "source": [
    "#removing stopwords of text2 column\n",
    "def remove_stopwords(text2):              \n",
    "    return \" \".join([word for word in str(text2).split() if word not in stop_words])\n",
    "data['text2'] = data['text2'].apply(lambda x: remove_stopwords(x))\n",
    "data['text2'][0]"
   ]
  },
  {
   "cell_type": "code",
   "execution_count": 20,
   "id": "1863d222",
   "metadata": {},
   "outputs": [
    {
     "data": {
      "text/plain": [
       "'savvi searcher fail spot ad internet search engin user odd mix naiv sophist suggest report search habit report us pew research center reveal searcher usual find look use search engin also show spot differ paid result organ one report reveal net user say regularli use googl ask jeev msn yahoo onlin almost question said would trust search engin much less knew inform paid result hidden accord figur gather pew research averag user spend minut per month carri separ search look webpag hunt signific chunk net user carri search least weekli ask look everi week question inform look critic inform simpli find search engin user also tend loyal found site feel trust tend stick accord pew research searcher use singl search engin use two three small number consult three site toni macklin spokesman ask jeev said result reflect research show peopl use differ search engin way site gather inform mean provid differ result queri despit like search site half question said could get inform via rout small number said realli miss search engin exist remain said could live without search site two third question said thought result present fair unbias select inform topic found net alongsid grow sophist net user lack awar paid result mani search engin provid alongsid list websit found index web ask unawar someon paid result see carri search searcher say tell result paid said pew report find iron sinc nearli half user say would stop use search engin thought engin clear present paid result comment mr macklin said sponsor result must clearli mark though might help queri user test show peopl need abl spot differ'"
      ]
     },
     "execution_count": 20,
     "metadata": {},
     "output_type": "execute_result"
    }
   ],
   "source": [
    "#stemming\n",
    "from nltk.stem import PorterStemmer\n",
    "stemmer = PorterStemmer()\n",
    "def stem_words(text1):\n",
    "    return \" \".join([stemmer.stem(word) for word in text1.split()])\n",
    "data[\"text1\"] = data[\"text1\"].apply(lambda x: stem_words(x))\n",
    "data[\"text1\"][0]"
   ]
  },
  {
   "cell_type": "code",
   "execution_count": 21,
   "id": "adcf978d",
   "metadata": {},
   "outputs": [
    {
     "data": {
      "text/plain": [
       "'savvi searcher fail spot ad internet search engin user odd mix naiv sophist suggest report search habit report us pew research center reveal searcher usual find look use search engin also show spot differ paid result organ one report reveal net user say regularli use googl ask jeev msn yahoo onlin almost question said would trust search engin much less knew inform paid result hidden accord figur gather pew research averag user spend minut per month carri separ search look webpag hunt signific chunk net user carri search least weekli ask look everi week question inform look critic inform simpli find search engin user also tend loyal found site feel trust tend stick accord pew research searcher use singl search engin use two three small number consult three site toni macklin spokesman ask jeev said result reflect research show peopl use differ search engin way site gather inform mean provid differ result queri despit like search site half question said could get inform via rout small number said realli miss search engin exist remain said could live without search site two third question said thought result present fair unbias select inform topic found net alongsid grow sophist net user lack awar paid result mani search engin provid alongsid list websit found index web ask unawar someon paid result see carri search searcher say tell result paid said pew report find iron sinc nearli half user say would stop use search engin thought engin clear present paid result comment mr macklin said sponsor result must clearli mark though might help queri user test show peopl need abl spot differ'"
      ]
     },
     "execution_count": 21,
     "metadata": {},
     "output_type": "execute_result"
    }
   ],
   "source": [
    "def stem_words(text2):\n",
    "    return \" \".join([stemmer.stem(word) for word in text2.split()])\n",
    "data[\"text2\"] = data[\"text2\"].apply(lambda x: stem_words(x))\n",
    "data[\"text2\"][0]"
   ]
  },
  {
   "cell_type": "code",
   "execution_count": 22,
   "id": "17429851",
   "metadata": {},
   "outputs": [
    {
     "data": {
      "text/plain": [
       "'savvi searcher fail spot ad internet search engin user odd mix naiv sophist suggest report search habit report u pew research center reveal searcher usual find look use search engin also show spot differ paid result organ one report reveal net user say regularli use googl ask jeev msn yahoo onlin almost question said would trust search engin much le knew inform paid result hidden accord figur gather pew research averag user spend minut per month carri separ search look webpag hunt signific chunk net user carri search least weekli ask look everi week question inform look critic inform simpli find search engin user also tend loyal found site feel trust tend stick accord pew research searcher use singl search engin use two three small number consult three site toni macklin spokesman ask jeev said result reflect research show peopl use differ search engin way site gather inform mean provid differ result queri despit like search site half question said could get inform via rout small number said realli miss search engin exist remain said could live without search site two third question said thought result present fair unbias select inform topic found net alongsid grow sophist net user lack awar paid result mani search engin provid alongsid list websit found index web ask unawar someon paid result see carri search searcher say tell result paid said pew report find iron sinc nearli half user say would stop use search engin thought engin clear present paid result comment mr macklin said sponsor result must clearli mark though might help queri user test show peopl need abl spot differ'"
      ]
     },
     "execution_count": 22,
     "metadata": {},
     "output_type": "execute_result"
    }
   ],
   "source": [
    "#lemmatization\n",
    "from nltk.stem import WordNetLemmatizer\n",
    "lemmatizer = WordNetLemmatizer()\n",
    "def lemmatize_words(text1):\n",
    "    return \" \".join([lemmatizer.lemmatize(word) for word in text1.split()])\n",
    "data[\"text1\"] = data[\"text1\"].apply(lambda text1: lemmatize_words(text1))\n",
    "data[\"text1\"][0]"
   ]
  },
  {
   "cell_type": "code",
   "execution_count": 23,
   "id": "b22dbb20",
   "metadata": {},
   "outputs": [
    {
     "data": {
      "text/plain": [
       "'savvi searcher fail spot ad internet search engin user odd mix naiv sophist suggest report search habit report u pew research center reveal searcher usual find look use search engin also show spot differ paid result organ one report reveal net user say regularli use googl ask jeev msn yahoo onlin almost question said would trust search engin much le knew inform paid result hidden accord figur gather pew research averag user spend minut per month carri separ search look webpag hunt signific chunk net user carri search least weekli ask look everi week question inform look critic inform simpli find search engin user also tend loyal found site feel trust tend stick accord pew research searcher use singl search engin use two three small number consult three site toni macklin spokesman ask jeev said result reflect research show peopl use differ search engin way site gather inform mean provid differ result queri despit like search site half question said could get inform via rout small number said realli miss search engin exist remain said could live without search site two third question said thought result present fair unbias select inform topic found net alongsid grow sophist net user lack awar paid result mani search engin provid alongsid list websit found index web ask unawar someon paid result see carri search searcher say tell result paid said pew report find iron sinc nearli half user say would stop use search engin thought engin clear present paid result comment mr macklin said sponsor result must clearli mark though might help queri user test show peopl need abl spot differ'"
      ]
     },
     "execution_count": 23,
     "metadata": {},
     "output_type": "execute_result"
    }
   ],
   "source": [
    "from nltk.stem import WordNetLemmatizer\n",
    "lemmatizer = WordNetLemmatizer()\n",
    "def lemmatize_words(text2):\n",
    "    return \" \".join([lemmatizer.lemmatize(word) for word in text2.split()])\n",
    "data[\"text2\"] = data[\"text2\"].apply(lambda text2: lemmatize_words(text2))\n",
    "data[\"text2\"][0]"
   ]
  },
  {
   "cell_type": "code",
   "execution_count": 24,
   "id": "478496d0",
   "metadata": {},
   "outputs": [
    {
     "data": {
      "text/plain": [
       "'savvi searcher fail spot ad internet search engin user odd mix naiv sophist suggest report search habit report u pew research center reveal searcher usual find look use search engin also show spot differ paid result organ one report reveal net user say regularli use googl ask jeev msn yahoo onlin almost question said would trust search engin much le knew inform paid result hidden accord figur gather pew research averag user spend minut per month carri separ search look webpag hunt signific chunk net user carri search least weekli ask look everi week question inform look critic inform simpli find search engin user also tend loyal found site feel trust tend stick accord pew research searcher use singl search engin use two three small number consult three site toni macklin spokesman ask jeev said result reflect research show peopl use differ search engin way site gather inform mean provid differ result queri despit like search site half question said could get inform via rout small number said realli miss search engin exist remain said could live without search site two third question said thought result present fair unbias select inform topic found net alongsid grow sophist net user lack awar paid result mani search engin provid alongsid list websit found index web ask unawar someon paid result see carri search searcher say tell result paid said pew report find iron sinc nearli half user say would stop use search engin thought engin clear present paid result comment mr macklin said sponsor result must clearli mark though might help queri user test show peopl need abl spot differ'"
      ]
     },
     "execution_count": 24,
     "metadata": {},
     "output_type": "execute_result"
    }
   ],
   "source": [
    "#remove extra spacing \n",
    "data['text1'][0].strip()\n",
    "data['text1'][0]"
   ]
  },
  {
   "cell_type": "code",
   "execution_count": 25,
   "id": "1c7b63a0",
   "metadata": {},
   "outputs": [
    {
     "data": {
      "text/plain": [
       "'savvi searcher fail spot ad internet search engin user odd mix naiv sophist suggest report search habit report u pew research center reveal searcher usual find look use search engin also show spot differ paid result organ one report reveal net user say regularli use googl ask jeev msn yahoo onlin almost question said would trust search engin much le knew inform paid result hidden accord figur gather pew research averag user spend minut per month carri separ search look webpag hunt signific chunk net user carri search least weekli ask look everi week question inform look critic inform simpli find search engin user also tend loyal found site feel trust tend stick accord pew research searcher use singl search engin use two three small number consult three site toni macklin spokesman ask jeev said result reflect research show peopl use differ search engin way site gather inform mean provid differ result queri despit like search site half question said could get inform via rout small number said realli miss search engin exist remain said could live without search site two third question said thought result present fair unbias select inform topic found net alongsid grow sophist net user lack awar paid result mani search engin provid alongsid list websit found index web ask unawar someon paid result see carri search searcher say tell result paid said pew report find iron sinc nearli half user say would stop use search engin thought engin clear present paid result comment mr macklin said sponsor result must clearli mark though might help queri user test show peopl need abl spot differ'"
      ]
     },
     "execution_count": 25,
     "metadata": {},
     "output_type": "execute_result"
    }
   ],
   "source": [
    "data['text2'][0].strip()\n",
    "data['text2'][0]"
   ]
  },
  {
   "cell_type": "markdown",
   "id": "1ce7bc94",
   "metadata": {},
   "source": [
    "# sentence similarity algorithm"
   ]
  },
  {
   "cell_type": "code",
   "execution_count": 26,
   "id": "2a391f9f",
   "metadata": {},
   "outputs": [],
   "source": [
    "ref_sent=data.loc[data['Unique_ID']==748 , 'text1'].iloc[0] #reference sentence .. for extracting similar sentences\n",
    "#randomly selected row to be the source sentence for finding 5 similarities with the help of jensem library\n",
    "#iloc[0] because it is the first col"
   ]
  },
  {
   "cell_type": "code",
   "execution_count": 27,
   "id": "f5c34980",
   "metadata": {},
   "outputs": [
    {
     "data": {
      "text/plain": [
       "'kilroy name elect seat target ex chat show host robert kilroy silk contest derbyshir seat erewash next gener elect labour elizabeth blackman seat 1997 6 932 major say fight record hard work constitu mp mr kilroy silk announc plan day launch new parti verita latin truth east midland mep quit uk independ parti want new group chang face uk polit choic elect constitu quash specul would stand defenc secretari geoff hoon ashfield nottinghamshir ukip 31 vote erewash last june european elect mr kilroy silk among candid region 1997 erewash held torus sinc 1970 m blackman said proud govern achiev area declin give view mr kilroy silk point thursday told london news confer verita would avoid old parti lie spin said countri stolen u mass immigr promis firm fair polici immigr verita say hope contest seat forthcom gener elect plan announc detail polici crime tax pension health defenc next week ukip leader roger knapman say glad see back mr kilroy silk labour campaign spokesman fraser kemp said verita join alreadi crowd field right british polit mr kilroy silk join new ventur one ukip two london assembl member damien hockney verita deputi leader ukip chairman petrina holdsworth said group parodi parti men left mr kilroy silk quit ukip last week month tension vie unsuccess leadership parti said asham member ukip whose leadership gone awol great opportun offer third place last june european elect ukip leader roger knapman said glad see back mr kilroy silk remark abil influenc peopl sadli european elect becam clear interest robert kilroy silk parti uk independ parti nice know goodby said ukip offici also argu mr kilroy silk straightforward attack parti want lead'"
      ]
     },
     "execution_count": 27,
     "metadata": {},
     "output_type": "execute_result"
    }
   ],
   "source": [
    "ref_sent #this is the ref_sent for which we will find 5 similarities' "
   ]
  },
  {
   "cell_type": "code",
   "execution_count": 28,
   "id": "5c0a5b13",
   "metadata": {},
   "outputs": [],
   "source": [
    "ref_sent_vec=nlp(ref_sent) #vectorize tokens using nlp .. ref_sent is a parameter "
   ]
  },
  {
   "cell_type": "code",
   "execution_count": 29,
   "id": "81c0275c",
   "metadata": {},
   "outputs": [],
   "source": [
    "all_docs=[nlp(row) for row in data['text1']] #this is my text saved on all_docs"
   ]
  },
  {
   "cell_type": "code",
   "execution_count": 30,
   "id": "0700e6ca",
   "metadata": {},
   "outputs": [],
   "source": [
    "#forloop to extract similar sentences to the ref_sent\n",
    "#create 2 empty lists because for every similar sent, we need to calculate similarity score+know doc_id \n",
    "sims=[]\n",
    "doc_id=[] \n",
    "for i in range (len(all_docs)):\n",
    "    sim=all_docs[i].similarity(ref_sent_vec) #similarity is given in genism lib\n",
    "    sims.append(sim) #similar sent saved here\n",
    "    doc_id.append(i)\n",
    "    sims_docs=pd.DataFrame(list(zip(doc_id,sims)) , columns=['doc_id','sims']) #dataframe have 2 cols doc_id&sims"
   ]
  },
  {
   "cell_type": "code",
   "execution_count": 31,
   "id": "000af3ce",
   "metadata": {},
   "outputs": [],
   "source": [
    "#to sort similarities\n",
    "sims_docs_sorted=sims_docs.sort_values(by= 'sims',ascending=False) #it is descending"
   ]
  },
  {
   "cell_type": "code",
   "execution_count": 32,
   "id": "c8c0aa50",
   "metadata": {},
   "outputs": [],
   "source": [
    "top_5_sim_docs = data.iloc[sims_docs_sorted['doc_id'][1:6]]"
   ]
  },
  {
   "cell_type": "code",
   "execution_count": 33,
   "id": "ffe9bb6d",
   "metadata": {},
   "outputs": [
    {
     "name": "stdout",
     "output_type": "stream",
     "text": [
      "['kilroy name elect seat target ex chat show host robert kilroy silk contest derbyshir seat erewash next gener elect labour elizabeth blackman seat 1997 6 932 major say fight record hard work constitu mp mr kilroy silk announc plan day launch new parti verita latin truth east midland mep quit uk independ parti want new group chang face uk polit choic elect constitu quash specul would stand defenc secretari geoff hoon ashfield nottinghamshir ukip 31 vote erewash last june european elect mr kilroy silk among candid region 1997 erewash held torus sinc 1970 m blackman said proud govern achiev area declin give view mr kilroy silk point thursday told london news confer verita would avoid old parti lie spin said countri stolen u mass immigr promis firm fair polici immigr verita say hope contest seat forthcom gener elect plan announc detail polici crime tax pension health defenc next week ukip leader roger knapman say glad see back mr kilroy silk labour campaign spokesman fraser kemp said verita join alreadi crowd field right british polit mr kilroy silk join new ventur one ukip two london assembl member damien hockney verita deputi leader ukip chairman petrina holdsworth said group parodi parti men left mr kilroy silk quit ukip last week month tension vie unsuccess leadership parti said asham member ukip whose leadership gone awol great opportun offer third place last june european elect ukip leader roger knapman said glad see back mr kilroy silk remark abil influenc peopl sadli european elect becam clear interest robert kilroy silk parti uk independ parti nice know goodby said ukip offici also argu mr kilroy silk straightforward attack parti want lead']\n"
     ]
    }
   ],
   "source": [
    "print(data[data['Unique_ID']==748]['text1'].values)#print top similarities and scores according to ref sent\n"
   ]
  },
  {
   "cell_type": "code",
   "execution_count": 34,
   "id": "3b281a93",
   "metadata": {},
   "outputs": [],
   "source": [
    "top_sim_scores=pd.concat([top_5_sim_docs,sims_docs_sorted['sims'][1:6]],axis=1)\n",
    "#to get create data frame for top docs & sorted sim"
   ]
  },
  {
   "cell_type": "code",
   "execution_count": 35,
   "id": "0befba40",
   "metadata": {},
   "outputs": [
    {
     "name": "stdout",
     "output_type": "stream",
     "text": [
      "The top 5 similar sentences are:kilroy name elect seat target ex chat show host robert kilroy silk contest derbyshir seat erewash next gener elect labour elizabeth blackman seat 1997 6 932 major say fight record hard work constitu mp mr kilroy silk announc plan day launch new parti verita latin truth east midland mep quit uk independ parti want new group chang face uk polit choic elect constitu quash specul would stand defenc secretari geoff hoon ashfield nottinghamshir ukip 31 vote erewash last june european elect mr kilroy silk among candid region 1997 erewash held torus sinc 1970 m blackman said proud govern achiev area declin give view mr kilroy silk point thursday told london news confer verita would avoid old parti lie spin said countri stolen u mass immigr promis firm fair polici immigr verita say hope contest seat forthcom gener elect plan announc detail polici crime tax pension health defenc next week ukip leader roger knapman say glad see back mr kilroy silk labour campaign spokesman fraser kemp said verita join alreadi crowd field right british polit mr kilroy silk join new ventur one ukip two london assembl member damien hockney verita deputi leader ukip chairman petrina holdsworth said group parodi parti men left mr kilroy silk quit ukip last week month tension vie unsuccess leadership parti said asham member ukip whose leadership gone awol great opportun offer third place last june european elect ukip leader roger knapman said glad see back mr kilroy silk remark abil influenc peopl sadli european elect becam clear interest robert kilroy silk parti uk independ parti nice know goodby said ukip offici also argu mr kilroy silk straightforward attack parti want lead\n",
      " with a similarity score of 1.00\n",
      "\n",
      "The top 5 similar sentences are:kilroy launch verita parti ex bbc chat show host east midland mep robert kilroy silk said want chang face british polit launch new parti mr kilroy silk recent quit uk independ parti said countri stolen u mass immigr told london news confer verita latin truth would avoid old parti lie spin ukip leader roger knapman say glad see back mr kilroy silk mr kilroy silk promis firm fair polici immigr said hope contest seat forthcom gener elect said verita would also announc detail polici crime tax pension health defenc next week announc parti would hold leadership elect thursday due announc constitu run next gener elect come amid specul sight set defenc secretari geoff hoon ashfield seat join new ventur one ukip two london assembl member damien hockney verita deputi leader ukip chairman petrina holdsworth said group parodi parti men left mr kilroy silk announc decis quit ukip public meet hinckley leicestershir last week came month tension vie unsuccess leadership parti said asham member ukip whose leadership gone awol great opportun offer third place last june european elect ukip turn back british peopl shall said stand next gener elect shall lead vigor campaign caus believ unlik old parti shall honest open straight mr hockney also left ukip say mr kilroy silk would deliv better leader euroscept parti spokesman ukip call mr hockney quit london assembl parti assert mr hockney moral oblig legal one stand leader roger knapman said glad see back mr kilroy silk remark abil influenc peopl sadli european elect becam clear interest robert kilroy silk parti uk independ parti nice know goodby said ukip offici also argu mr kilroy silk straightforward attack parti want lead europhil pray main euroscept parti ukip tri resolv differ kilroy show unit front give uk public seriou polit voic europ multipl parti view point split vote thank good kilroy silk gone ukip least chanc elect sad see caus britain regain proper relationship europ damag split within ukip robert kilroy silk could lot offer instead split parti damag caus present elector system peopl must work togeth small parti hope represent last summer ukip achiev major advanc partli partli due kilroy silk great shame dissip fight ukip wide platform polici withdraw eu kilroy silk conveni ignor comment surround launch parti neither english democrat new parti interest let join take leadership speak volum verita begin end kilroy silk believ truth democraci two assembl member resign forc elect stand platform rather backdoor approach polit elect one parti defect anoth ukip good enough lead good enough follow interest parti commit plain speak latin name everi opinion poll point overwhelm anti europ feel countri kilroy silk could verg someth huge broaden appeal beyond one issu extrem abl commun year polit experi want qualiti school top hospit clean effici public transport punish fit crime limit asylum purg bureaucraci le tax need courag honesti two qualiti sadli lack politician kilroy silk may qualiti recruit right colleagu robert time may come well cannot get enough limelight ordinari mp go start parti flash real polici let hope start ukip kilroy silk slip obscur verita name doom perhap wrong sure modern schoolchildren understand sinc still learn latin classroom whole essenc rk repres eurosceptic explain twee label verita symbolis\n",
      " with a similarity score of 0.98\n",
      "\n",
      "The top 5 similar sentences are:kilroy launch verita parti ex bbc chat show host east midland mep robert kilroy silk said want chang face british polit launch new parti mr kilroy silk recent quit uk independ parti said countri stolen u mass immigr told london news confer verita latin truth would avoid old parti lie spin ukip leader roger knapman say glad see back mr kilroy silk mr kilroy silk promis firm fair polici immigr said hope contest seat forthcom gener elect said verita would also announc detail polici crime tax pension health defenc next week announc parti would hold leadership elect thursday due announc constitu run next gener elect come amid specul sight set defenc secretari geoff hoon ashfield seat join new ventur one ukip two london assembl member damien hockney verita deputi leader ukip chairman petrina holdsworth said group parodi parti men left mr kilroy silk announc decis quit ukip public meet hinckley leicestershir last week came month tension vie unsuccess leadership parti said asham member ukip whose leadership gone awol great opportun offer third place last june european elect ukip turn back british peopl shall said stand next gener elect shall lead vigor campaign caus believ unlik old parti shall honest open straight mr hockney also left ukip say mr kilroy silk would deliv better leader euroscept parti spokesman ukip call mr hockney quit london assembl parti assert mr hockney moral oblig legal one stand leader roger knapman said glad see back mr kilroy silk remark abil influenc peopl sadli european elect becam clear interest robert kilroy silk parti uk independ parti nice know goodby said ukip offici also argu mr kilroy silk straightforward attack parti want lead europhil pray main euroscept parti ukip tri resolv differ kilroy show unit front give uk public seriou polit voic europ multipl parti view point split vote thank good kilroy silk gone ukip least chanc elect sad see caus britain regain proper relationship europ damag split within ukip robert kilroy silk could lot offer instead split parti damag caus present elector system peopl must work togeth small parti hope represent last summer ukip achiev major advanc partli partli due kilroy silk great shame dissip fight ukip wide platform polici withdraw eu kilroy silk conveni ignor comment surround launch parti neither english democrat new parti interest let join take leadership speak volum verita begin end kilroy silk believ truth democraci two assembl member resign forc elect stand platform rather backdoor approach polit elect one parti defect anoth ukip good enough lead good enough follow interest parti commit plain speak latin name everi opinion poll point overwhelm anti europ feel countri kilroy silk could verg someth huge broaden appeal beyond one issu extrem abl commun year polit experi want qualiti school top hospit clean effici public transport punish fit crime limit asylum purg bureaucraci le tax need courag honesti two qualiti sadli lack politician kilroy silk may qualiti recruit right colleagu robert time may come well cannot get enough limelight ordinari mp go start parti flash real polici let hope start ukip kilroy silk slip obscur verita name doom perhap wrong sure modern schoolchildren understand sinc still learn latin classroom whole essenc rk repres eurosceptic explain twee label verita symbolis\n",
      " with a similarity score of 0.98\n",
      "\n",
      "The top 5 similar sentences are:kilroy silk quit shame ukip ex chat show host robert kilroy silk quit uk independ parti accus betray support mep said asham join parti label joke plan stand next gener elect refus confirm set new polit parti call verita latin truth ukip leader roger knapman said would break open champagn ad nice know goodby howev say ex chat show host quit use initi remark abil influenc peopl sadli european elect becam clear interest robert kilroy silk parti uk independ parti nice know goodby mr knapman told bbc radio 4 today programm mr knapman reject idea mr kilroy silk pose threat ukip queri fail confirm rumour start new polit parti mr kilroy silk explain reason east midland constitu meet hinckley leicestershir decis came ukip offici began process could trigger mr kilroy silk expuls mark end membership ukip nine month began flood public help ukip third place last june european elect becam domin rancour tri take parti leadership mr kilroy silk accus fellow ukip mep content grow fat sit backsid brussel told bbc news 24 tri chang parti nag way summer thing get move thought crimin betray mr kilroy silk also told sky news mass support form new parti someth yet confirm happen ukip 12 seat 16 1 vote european elect back call uk leav european union speech mr kilroy silk say result offer ukip amaz opportun parti leadership done noth gone awol polici energi vision spokespeopl said parti go nowher embarrass alli europ asham member parti said mr kilroy silk said convict britain right govern chang would continu campaign outsid ukip contest gener elect east midland constitu report new parti plan prompt formal complaint ukip disciplinari committe bring parti disreput thursday parti challeng mr kilroy silk stand mep voter get genuin ukip candid\n",
      " with a similarity score of 0.97\n",
      "\n",
      "The top 5 similar sentences are:kilroy silk quit shame ukip ex chat show host robert kilroy silk quit uk independ parti accus betray support mep said asham join parti label joke plan stand next gener elect refus confirm set new polit parti call verita latin truth ukip leader roger knapman said would break open champagn ad nice know goodby howev say ex chat show host quit use initi remark abil influenc peopl sadli european elect becam clear interest robert kilroy silk parti uk independ parti nice know goodby mr knapman told bbc radio 4 today programm mr knapman reject idea mr kilroy silk pose threat ukip queri fail confirm rumour start new polit parti mr kilroy silk explain reason east midland constitu meet hinckley leicestershir decis came ukip offici began process could trigger mr kilroy silk expuls mark end membership ukip nine month began flood public help ukip third place last june european elect becam domin rancour tri take parti leadership mr kilroy silk accus fellow ukip mep content grow fat sit backsid brussel told bbc news 24 tri chang parti nag way summer thing get move thought crimin betray mr kilroy silk also told sky news mass support form new parti someth yet confirm happen ukip 12 seat 16 1 vote european elect back call uk leav european union speech mr kilroy silk say result offer ukip amaz opportun parti leadership done noth gone awol polici energi vision spokespeopl said parti go nowher embarrass alli europ asham member parti said mr kilroy silk said convict britain right govern chang would continu campaign outsid ukip contest gener elect east midland constitu report new parti plan prompt formal complaint ukip disciplinari committe bring parti disreput thursday parti challeng mr kilroy silk stand mep voter get genuin ukip candid\n",
      " with a similarity score of 0.97\n",
      "\n"
     ]
    }
   ],
   "source": [
    "for(text1,sim) in zip (top_sim_scores['text1'],top_sim_scores['sims']):\n",
    "    print(\"The top 5 similar sentences are:{}\\n with a similarity score of {:.2f}\\n\".format(text1,sim))"
   ]
  },
  {
   "cell_type": "code",
   "execution_count": null,
   "id": "5c5c2e27",
   "metadata": {},
   "outputs": [],
   "source": []
  }
 ],
 "metadata": {
  "kernelspec": {
   "display_name": "Python 3 (ipykernel)",
   "language": "python",
   "name": "python3"
  },
  "language_info": {
   "codemirror_mode": {
    "name": "ipython",
    "version": 3
   },
   "file_extension": ".py",
   "mimetype": "text/x-python",
   "name": "python",
   "nbconvert_exporter": "python",
   "pygments_lexer": "ipython3",
   "version": "3.9.7"
  }
 },
 "nbformat": 4,
 "nbformat_minor": 5
}
