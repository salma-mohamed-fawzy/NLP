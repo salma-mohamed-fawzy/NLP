{
 "cells": [
  {
   "cell_type": "markdown",
   "id": "ac78b4b9",
   "metadata": {},
   "source": [
    "# TF-IDF code 'from scratch'"
   ]
  },
  {
   "cell_type": "code",
   "execution_count": 150,
   "id": "40ccb909",
   "metadata": {},
   "outputs": [],
   "source": [
    "import pandas as pd"
   ]
  },
  {
   "cell_type": "code",
   "execution_count": 151,
   "id": "452ecc45",
   "metadata": {},
   "outputs": [],
   "source": [
    "documentA = 'My name is salma mohamed fawzy'\n",
    "documentB = 'I am a student in faculty of computers and artificial intelligence'"
   ]
  },
  {
   "cell_type": "code",
   "execution_count": 152,
   "id": "bf1fc70e",
   "metadata": {},
   "outputs": [],
   "source": [
    "bagOfWordsA = documentA.split(' ')\n",
    "bagOfWordsB = documentB.split(' ')"
   ]
  },
  {
   "cell_type": "code",
   "execution_count": 153,
   "id": "f3155e97",
   "metadata": {},
   "outputs": [
    {
     "data": {
      "text/plain": [
       "['My', 'name', 'is', 'salma', 'mohamed', 'fawzy']"
      ]
     },
     "execution_count": 153,
     "metadata": {},
     "output_type": "execute_result"
    }
   ],
   "source": [
    "bagOfWordsA"
   ]
  },
  {
   "cell_type": "code",
   "execution_count": 182,
   "id": "5292b7a9",
   "metadata": {},
   "outputs": [
    {
     "name": "stdout",
     "output_type": "stream",
     "text": [
      "['My', 'salma', 'mohamed', 'fawzy']\n",
      "['I', 'student', 'faculty', 'computers', 'artificial', 'intelligence']\n"
     ]
    }
   ],
   "source": [
    "#remowing stopwords\n",
    "from nltk.corpus import stopwords\n",
    "from nltk.tokenize import word_tokenize\n",
    "text_tokens1 = bagOfWordsA\n",
    "text_tokens2 = bagOfWordsB\n",
    "tokens_without_sw1 = [word for word in text_tokens1 if not word in stopwords.words()]\n",
    "tokens_without_sw2 = [word for word in text_tokens2 if not word in stopwords.words()]\n",
    "print(tokens_without_sw1)\n",
    "print(tokens_without_sw2)"
   ]
  },
  {
   "cell_type": "code",
   "execution_count": 160,
   "id": "831155b1",
   "metadata": {},
   "outputs": [
    {
     "data": {
      "text/plain": [
       "{'I',\n",
       " 'My',\n",
       " 'a',\n",
       " 'am',\n",
       " 'and',\n",
       " 'artificial',\n",
       " 'computers',\n",
       " 'faculty',\n",
       " 'fawzy',\n",
       " 'in',\n",
       " 'intelligence',\n",
       " 'is',\n",
       " 'mohamed',\n",
       " 'name',\n",
       " 'of',\n",
       " 'salma',\n",
       " 'student'}"
      ]
     },
     "execution_count": 160,
     "metadata": {},
     "output_type": "execute_result"
    }
   ],
   "source": [
    "uniqueWords = set(bagOfWordsA).union(set(bagOfWordsB)) #حذف التكرار مع الترتيب   set + هعمل اتحاد للاتنين \n",
    "uniqueWords"
   ]
  },
  {
   "cell_type": "code",
   "execution_count": 161,
   "id": "143ab227",
   "metadata": {},
   "outputs": [
    {
     "data": {
      "text/plain": [
       "{'student': 0,\n",
       " 'in': 0,\n",
       " 'name': 0,\n",
       " 'My': 0,\n",
       " 'computers': 0,\n",
       " 'and': 0,\n",
       " 'artificial': 0,\n",
       " 'fawzy': 0,\n",
       " 'of': 0,\n",
       " 'I': 0,\n",
       " 'faculty': 0,\n",
       " 'salma': 0,\n",
       " 'a': 0,\n",
       " 'am': 0,\n",
       " 'is': 0,\n",
       " 'mohamed': 0,\n",
       " 'intelligence': 0}"
      ]
     },
     "execution_count": 161,
     "metadata": {},
     "output_type": "execute_result"
    }
   ],
   "source": [
    "numOfWordsA = dict.fromkeys(uniqueWords, 0)\n",
    "numOfWordsA"
   ]
  },
  {
   "cell_type": "code",
   "execution_count": 162,
   "id": "c8b7552d",
   "metadata": {},
   "outputs": [
    {
     "data": {
      "text/plain": [
       "{'student': 0,\n",
       " 'in': 0,\n",
       " 'name': 1,\n",
       " 'My': 1,\n",
       " 'computers': 0,\n",
       " 'and': 0,\n",
       " 'artificial': 0,\n",
       " 'fawzy': 1,\n",
       " 'of': 0,\n",
       " 'I': 0,\n",
       " 'faculty': 0,\n",
       " 'salma': 1,\n",
       " 'a': 0,\n",
       " 'am': 0,\n",
       " 'is': 1,\n",
       " 'mohamed': 1,\n",
       " 'intelligence': 0}"
      ]
     },
     "execution_count": 162,
     "metadata": {},
     "output_type": "execute_result"
    }
   ],
   "source": [
    "#A words=number of it's existence , other words = 0\n",
    "for word in bagOfWordsA:\n",
    "    numOfWordsA[word] += 1\n",
    "numOfWordsA"
   ]
  },
  {
   "cell_type": "code",
   "execution_count": 163,
   "id": "141dce43",
   "metadata": {},
   "outputs": [
    {
     "data": {
      "text/plain": [
       "{'student': 1,\n",
       " 'in': 1,\n",
       " 'name': 0,\n",
       " 'My': 0,\n",
       " 'computers': 1,\n",
       " 'and': 1,\n",
       " 'artificial': 1,\n",
       " 'fawzy': 0,\n",
       " 'of': 1,\n",
       " 'I': 1,\n",
       " 'faculty': 1,\n",
       " 'salma': 0,\n",
       " 'a': 1,\n",
       " 'am': 1,\n",
       " 'is': 0,\n",
       " 'mohamed': 0,\n",
       " 'intelligence': 1}"
      ]
     },
     "execution_count": 163,
     "metadata": {},
     "output_type": "execute_result"
    }
   ],
   "source": [
    "#B words=number of it's existence , other words = 0\n",
    "\n",
    "numOfWordsB = dict.fromkeys(uniqueWords, 0)\n",
    "\n",
    "for word in bagOfWordsB:\n",
    "    numOfWordsB[word] += 1\n",
    "\n",
    "numOfWordsB    "
   ]
  },
  {
   "cell_type": "code",
   "execution_count": 164,
   "id": "4fed6e84",
   "metadata": {},
   "outputs": [],
   "source": [
    "#now, we know every word in every sent & how many it exists"
   ]
  },
  {
   "cell_type": "code",
   "execution_count": 165,
   "id": "f0086e1c",
   "metadata": {},
   "outputs": [],
   "source": [
    "#TF calculation function\n",
    "def computeTF(wordDict, bagOfWords):\n",
    "    tfDict = {}                          #empty dictionary\n",
    "    bagOfWordsCount = len(bagOfWords)     #num of words in BOW\n",
    "    for word, count in wordDict.items():  #to return word and its count \n",
    "        tfDict[word] = count / float(bagOfWordsCount)\n",
    "    return tfDict"
   ]
  },
  {
   "cell_type": "code",
   "execution_count": 166,
   "id": "f1819f4c",
   "metadata": {},
   "outputs": [
    {
     "data": {
      "text/plain": [
       "{'student': 0.0,\n",
       " 'in': 0.0,\n",
       " 'name': 0.16666666666666666,\n",
       " 'My': 0.16666666666666666,\n",
       " 'computers': 0.0,\n",
       " 'and': 0.0,\n",
       " 'artificial': 0.0,\n",
       " 'fawzy': 0.16666666666666666,\n",
       " 'of': 0.0,\n",
       " 'I': 0.0,\n",
       " 'faculty': 0.0,\n",
       " 'salma': 0.16666666666666666,\n",
       " 'a': 0.0,\n",
       " 'am': 0.0,\n",
       " 'is': 0.16666666666666666,\n",
       " 'mohamed': 0.16666666666666666,\n",
       " 'intelligence': 0.0}"
      ]
     },
     "execution_count": 166,
     "metadata": {},
     "output_type": "execute_result"
    }
   ],
   "source": [
    "tfA = computeTF(numOfWordsA,bagOfWordsA) #call TF fun. for the A sent.\n",
    "tfA"
   ]
  },
  {
   "cell_type": "code",
   "execution_count": 167,
   "id": "42691e2d",
   "metadata": {},
   "outputs": [
    {
     "data": {
      "text/plain": [
       "{'student': 0.09090909090909091,\n",
       " 'in': 0.09090909090909091,\n",
       " 'name': 0.0,\n",
       " 'My': 0.0,\n",
       " 'computers': 0.09090909090909091,\n",
       " 'and': 0.09090909090909091,\n",
       " 'artificial': 0.09090909090909091,\n",
       " 'fawzy': 0.0,\n",
       " 'of': 0.09090909090909091,\n",
       " 'I': 0.09090909090909091,\n",
       " 'faculty': 0.09090909090909091,\n",
       " 'salma': 0.0,\n",
       " 'a': 0.09090909090909091,\n",
       " 'am': 0.09090909090909091,\n",
       " 'is': 0.0,\n",
       " 'mohamed': 0.0,\n",
       " 'intelligence': 0.09090909090909091}"
      ]
     },
     "execution_count": 167,
     "metadata": {},
     "output_type": "execute_result"
    }
   ],
   "source": [
    "tfB = computeTF(numOfWordsB, bagOfWordsB)   #call TF fun. for the B sent.\n",
    "tfB"
   ]
  },
  {
   "cell_type": "code",
   "execution_count": 168,
   "id": "0b5f3e9f",
   "metadata": {},
   "outputs": [],
   "source": [
    "#Inverse Document Frequency = N'num of all docs'/DF'num of docs, the word in'\n",
    "#IDF calculation function  \n",
    "\n",
    "def computeIDF(documents):\n",
    "    import math\n",
    "    N = len(documents)                               #num of all Docs\n",
    "    \n",
    "    idfDict = dict.fromkeys(documents[0].keys(), 0)   \n",
    "    for document in documents:                       #loop on Docs\n",
    "        for word, val in document.items():            #word , doc.freq\n",
    "            if val > 0:                               #if val of occurence>0 #if it exists in the doc\n",
    "                idfDict[word] += 1                    #id dict +1 \n",
    "    \n",
    "    for word, val in idfDict.items():                 #val=DF\n",
    "        idfDict[word] = math.log(N / float(val))\n",
    "    return idfDict"
   ]
  },
  {
   "cell_type": "code",
   "execution_count": 169,
   "id": "ba5cff8e",
   "metadata": {},
   "outputs": [
    {
     "data": {
      "text/plain": [
       "{'student': 0.6931471805599453,\n",
       " 'in': 0.6931471805599453,\n",
       " 'name': 0.6931471805599453,\n",
       " 'My': 0.6931471805599453,\n",
       " 'computers': 0.6931471805599453,\n",
       " 'and': 0.6931471805599453,\n",
       " 'artificial': 0.6931471805599453,\n",
       " 'fawzy': 0.6931471805599453,\n",
       " 'of': 0.6931471805599453,\n",
       " 'I': 0.6931471805599453,\n",
       " 'faculty': 0.6931471805599453,\n",
       " 'salma': 0.6931471805599453,\n",
       " 'a': 0.6931471805599453,\n",
       " 'am': 0.6931471805599453,\n",
       " 'is': 0.6931471805599453,\n",
       " 'mohamed': 0.6931471805599453,\n",
       " 'intelligence': 0.6931471805599453}"
      ]
     },
     "execution_count": 169,
     "metadata": {},
     "output_type": "execute_result"
    }
   ],
   "source": [
    "idfs = computeIDF([numOfWordsA, numOfWordsB])\n",
    "idfs"
   ]
  },
  {
   "cell_type": "code",
   "execution_count": 170,
   "id": "ac0f405f",
   "metadata": {},
   "outputs": [],
   "source": [
    "def computeTFIDF(tfBagOfWords, idfs):    #tf*idf ... \"multiply them\"\n",
    "    tfidf = {}\n",
    "    for word, val in tfBagOfWords.items():\n",
    "        tfidf[word] = val * idfs[word]\n",
    "    return tfidf\n"
   ]
  },
  {
   "cell_type": "code",
   "execution_count": 171,
   "id": "d80708e5",
   "metadata": {},
   "outputs": [
    {
     "data": {
      "text/plain": [
       "{'student': 0.0,\n",
       " 'in': 0.0,\n",
       " 'name': 0.11552453009332421,\n",
       " 'My': 0.11552453009332421,\n",
       " 'computers': 0.0,\n",
       " 'and': 0.0,\n",
       " 'artificial': 0.0,\n",
       " 'fawzy': 0.11552453009332421,\n",
       " 'of': 0.0,\n",
       " 'I': 0.0,\n",
       " 'faculty': 0.0,\n",
       " 'salma': 0.11552453009332421,\n",
       " 'a': 0.0,\n",
       " 'am': 0.0,\n",
       " 'is': 0.11552453009332421,\n",
       " 'mohamed': 0.11552453009332421,\n",
       " 'intelligence': 0.0}"
      ]
     },
     "execution_count": 171,
     "metadata": {},
     "output_type": "execute_result"
    }
   ],
   "source": [
    "tfidfA = computeTFIDF(tfA, idfs)\n",
    "tfidfA"
   ]
  },
  {
   "cell_type": "code",
   "execution_count": 172,
   "id": "2cf72bbe",
   "metadata": {},
   "outputs": [
    {
     "data": {
      "text/plain": [
       "{'student': 0.06301338005090412,\n",
       " 'in': 0.06301338005090412,\n",
       " 'name': 0.0,\n",
       " 'My': 0.0,\n",
       " 'computers': 0.06301338005090412,\n",
       " 'and': 0.06301338005090412,\n",
       " 'artificial': 0.06301338005090412,\n",
       " 'fawzy': 0.0,\n",
       " 'of': 0.06301338005090412,\n",
       " 'I': 0.06301338005090412,\n",
       " 'faculty': 0.06301338005090412,\n",
       " 'salma': 0.0,\n",
       " 'a': 0.06301338005090412,\n",
       " 'am': 0.06301338005090412,\n",
       " 'is': 0.0,\n",
       " 'mohamed': 0.0,\n",
       " 'intelligence': 0.06301338005090412}"
      ]
     },
     "execution_count": 172,
     "metadata": {},
     "output_type": "execute_result"
    }
   ],
   "source": [
    "tfidfB = computeTFIDF(tfB, idfs)\n",
    "tfidfB"
   ]
  },
  {
   "cell_type": "code",
   "execution_count": 173,
   "id": "70dfe259",
   "metadata": {},
   "outputs": [
    {
     "data": {
      "text/html": [
       "<div>\n",
       "<style scoped>\n",
       "    .dataframe tbody tr th:only-of-type {\n",
       "        vertical-align: middle;\n",
       "    }\n",
       "\n",
       "    .dataframe tbody tr th {\n",
       "        vertical-align: top;\n",
       "    }\n",
       "\n",
       "    .dataframe thead th {\n",
       "        text-align: right;\n",
       "    }\n",
       "</style>\n",
       "<table border=\"1\" class=\"dataframe\">\n",
       "  <thead>\n",
       "    <tr style=\"text-align: right;\">\n",
       "      <th></th>\n",
       "      <th>student</th>\n",
       "      <th>in</th>\n",
       "      <th>name</th>\n",
       "      <th>My</th>\n",
       "      <th>computers</th>\n",
       "      <th>and</th>\n",
       "      <th>artificial</th>\n",
       "      <th>fawzy</th>\n",
       "      <th>of</th>\n",
       "      <th>I</th>\n",
       "      <th>faculty</th>\n",
       "      <th>salma</th>\n",
       "      <th>a</th>\n",
       "      <th>am</th>\n",
       "      <th>is</th>\n",
       "      <th>mohamed</th>\n",
       "      <th>intelligence</th>\n",
       "    </tr>\n",
       "  </thead>\n",
       "  <tbody>\n",
       "    <tr>\n",
       "      <th>0</th>\n",
       "      <td>0.000000</td>\n",
       "      <td>0.000000</td>\n",
       "      <td>0.115525</td>\n",
       "      <td>0.115525</td>\n",
       "      <td>0.000000</td>\n",
       "      <td>0.000000</td>\n",
       "      <td>0.000000</td>\n",
       "      <td>0.115525</td>\n",
       "      <td>0.000000</td>\n",
       "      <td>0.000000</td>\n",
       "      <td>0.000000</td>\n",
       "      <td>0.115525</td>\n",
       "      <td>0.000000</td>\n",
       "      <td>0.000000</td>\n",
       "      <td>0.115525</td>\n",
       "      <td>0.115525</td>\n",
       "      <td>0.000000</td>\n",
       "    </tr>\n",
       "    <tr>\n",
       "      <th>1</th>\n",
       "      <td>0.063013</td>\n",
       "      <td>0.063013</td>\n",
       "      <td>0.000000</td>\n",
       "      <td>0.000000</td>\n",
       "      <td>0.063013</td>\n",
       "      <td>0.063013</td>\n",
       "      <td>0.063013</td>\n",
       "      <td>0.000000</td>\n",
       "      <td>0.063013</td>\n",
       "      <td>0.063013</td>\n",
       "      <td>0.063013</td>\n",
       "      <td>0.000000</td>\n",
       "      <td>0.063013</td>\n",
       "      <td>0.063013</td>\n",
       "      <td>0.000000</td>\n",
       "      <td>0.000000</td>\n",
       "      <td>0.063013</td>\n",
       "    </tr>\n",
       "  </tbody>\n",
       "</table>\n",
       "</div>"
      ],
      "text/plain": [
       "    student        in      name        My  computers       and  artificial  \\\n",
       "0  0.000000  0.000000  0.115525  0.115525   0.000000  0.000000    0.000000   \n",
       "1  0.063013  0.063013  0.000000  0.000000   0.063013  0.063013    0.063013   \n",
       "\n",
       "      fawzy        of         I   faculty     salma         a        am  \\\n",
       "0  0.115525  0.000000  0.000000  0.000000  0.115525  0.000000  0.000000   \n",
       "1  0.000000  0.063013  0.063013  0.063013  0.000000  0.063013  0.063013   \n",
       "\n",
       "         is   mohamed  intelligence  \n",
       "0  0.115525  0.115525      0.000000  \n",
       "1  0.000000  0.000000      0.063013  "
      ]
     },
     "execution_count": 173,
     "metadata": {},
     "output_type": "execute_result"
    }
   ],
   "source": [
    "df = pd.DataFrame([tfidfA, tfidfB]) # Data Frame to put them in a table \n",
    "df.head()                           #the table value is zero if the word is not in the sent"
   ]
  },
  {
   "cell_type": "markdown",
   "id": "c4a2dea0",
   "metadata": {},
   "source": [
    "# TF-IDF code using SKlearn library"
   ]
  },
  {
   "cell_type": "code",
   "execution_count": 174,
   "id": "ead8a990",
   "metadata": {},
   "outputs": [
    {
     "name": "stdout",
     "output_type": "stream",
     "text": [
      "  (0, 5)\t0.408248290463863\n",
      "  (0, 9)\t0.408248290463863\n",
      "  (0, 13)\t0.408248290463863\n",
      "  (0, 8)\t0.408248290463863\n",
      "  (0, 11)\t0.408248290463863\n",
      "  (0, 10)\t0.408248290463863\n",
      "  (1, 7)\t0.33333333333333337\n",
      "  (1, 2)\t0.33333333333333337\n",
      "  (1, 1)\t0.33333333333333337\n",
      "  (1, 3)\t0.33333333333333337\n",
      "  (1, 12)\t0.33333333333333337\n",
      "  (1, 4)\t0.33333333333333337\n",
      "  (1, 6)\t0.33333333333333337\n",
      "  (1, 14)\t0.33333333333333337\n",
      "  (1, 0)\t0.33333333333333337\n"
     ]
    }
   ],
   "source": [
    "from sklearn.feature_extraction.text import TfidfVectorizer\n",
    "vectorizer = TfidfVectorizer()        #take object\n",
    "vectors = vectorizer.fit_transform([documentA, documentB])\n",
    "print(vectors)\n"
   ]
  },
  {
   "cell_type": "code",
   "execution_count": 175,
   "id": "07c3467c",
   "metadata": {},
   "outputs": [
    {
     "data": {
      "text/plain": [
       "['am',\n",
       " 'and',\n",
       " 'artificial',\n",
       " 'computers',\n",
       " 'faculty',\n",
       " 'fawzy',\n",
       " 'in',\n",
       " 'intelligence',\n",
       " 'is',\n",
       " 'mohamed',\n",
       " 'my',\n",
       " 'name',\n",
       " 'of',\n",
       " 'salma',\n",
       " 'student']"
      ]
     },
     "execution_count": 175,
     "metadata": {},
     "output_type": "execute_result"
    }
   ],
   "source": [
    "feature_names = vectorizer.get_feature_names()\n",
    "feature_names"
   ]
  },
  {
   "cell_type": "code",
   "execution_count": 176,
   "id": "ed4bfc37",
   "metadata": {},
   "outputs": [
    {
     "data": {
      "text/plain": [
       "matrix([[0.        , 0.        , 0.        , 0.        , 0.        ,\n",
       "         0.40824829, 0.        , 0.        , 0.40824829, 0.40824829,\n",
       "         0.40824829, 0.40824829, 0.        , 0.40824829, 0.        ],\n",
       "        [0.33333333, 0.33333333, 0.33333333, 0.33333333, 0.33333333,\n",
       "         0.        , 0.33333333, 0.33333333, 0.        , 0.        ,\n",
       "         0.        , 0.        , 0.33333333, 0.        , 0.33333333]])"
      ]
     },
     "execution_count": 176,
     "metadata": {},
     "output_type": "execute_result"
    }
   ],
   "source": [
    "dense = vectors.todense()\n",
    "dense"
   ]
  },
  {
   "cell_type": "code",
   "execution_count": 177,
   "id": "fbddf667",
   "metadata": {},
   "outputs": [
    {
     "data": {
      "text/html": [
       "<div>\n",
       "<style scoped>\n",
       "    .dataframe tbody tr th:only-of-type {\n",
       "        vertical-align: middle;\n",
       "    }\n",
       "\n",
       "    .dataframe tbody tr th {\n",
       "        vertical-align: top;\n",
       "    }\n",
       "\n",
       "    .dataframe thead th {\n",
       "        text-align: right;\n",
       "    }\n",
       "</style>\n",
       "<table border=\"1\" class=\"dataframe\">\n",
       "  <thead>\n",
       "    <tr style=\"text-align: right;\">\n",
       "      <th></th>\n",
       "      <th>am</th>\n",
       "      <th>and</th>\n",
       "      <th>artificial</th>\n",
       "      <th>computers</th>\n",
       "      <th>faculty</th>\n",
       "      <th>fawzy</th>\n",
       "      <th>in</th>\n",
       "      <th>intelligence</th>\n",
       "      <th>is</th>\n",
       "      <th>mohamed</th>\n",
       "      <th>my</th>\n",
       "      <th>name</th>\n",
       "      <th>of</th>\n",
       "      <th>salma</th>\n",
       "      <th>student</th>\n",
       "    </tr>\n",
       "  </thead>\n",
       "  <tbody>\n",
       "    <tr>\n",
       "      <th>0</th>\n",
       "      <td>0.000000</td>\n",
       "      <td>0.000000</td>\n",
       "      <td>0.000000</td>\n",
       "      <td>0.000000</td>\n",
       "      <td>0.000000</td>\n",
       "      <td>0.408248</td>\n",
       "      <td>0.000000</td>\n",
       "      <td>0.000000</td>\n",
       "      <td>0.408248</td>\n",
       "      <td>0.408248</td>\n",
       "      <td>0.408248</td>\n",
       "      <td>0.408248</td>\n",
       "      <td>0.000000</td>\n",
       "      <td>0.408248</td>\n",
       "      <td>0.000000</td>\n",
       "    </tr>\n",
       "    <tr>\n",
       "      <th>1</th>\n",
       "      <td>0.333333</td>\n",
       "      <td>0.333333</td>\n",
       "      <td>0.333333</td>\n",
       "      <td>0.333333</td>\n",
       "      <td>0.333333</td>\n",
       "      <td>0.000000</td>\n",
       "      <td>0.333333</td>\n",
       "      <td>0.333333</td>\n",
       "      <td>0.000000</td>\n",
       "      <td>0.000000</td>\n",
       "      <td>0.000000</td>\n",
       "      <td>0.000000</td>\n",
       "      <td>0.333333</td>\n",
       "      <td>0.000000</td>\n",
       "      <td>0.333333</td>\n",
       "    </tr>\n",
       "  </tbody>\n",
       "</table>\n",
       "</div>"
      ],
      "text/plain": [
       "         am       and  artificial  computers   faculty     fawzy        in  \\\n",
       "0  0.000000  0.000000    0.000000   0.000000  0.000000  0.408248  0.000000   \n",
       "1  0.333333  0.333333    0.333333   0.333333  0.333333  0.000000  0.333333   \n",
       "\n",
       "   intelligence        is   mohamed        my      name        of     salma  \\\n",
       "0      0.000000  0.408248  0.408248  0.408248  0.408248  0.000000  0.408248   \n",
       "1      0.333333  0.000000  0.000000  0.000000  0.000000  0.333333  0.000000   \n",
       "\n",
       "    student  \n",
       "0  0.000000  \n",
       "1  0.333333  "
      ]
     },
     "execution_count": 177,
     "metadata": {},
     "output_type": "execute_result"
    }
   ],
   "source": [
    "denselist = dense.tolist()\n",
    "df = pd.DataFrame(denselist, columns=feature_names)\n",
    "df.head()"
   ]
  },
  {
   "cell_type": "code",
   "execution_count": null,
   "id": "4eb3060e",
   "metadata": {},
   "outputs": [],
   "source": []
  }
 ],
 "metadata": {
  "kernelspec": {
   "display_name": "Python 3 (ipykernel)",
   "language": "python",
   "name": "python3"
  },
  "language_info": {
   "codemirror_mode": {
    "name": "ipython",
    "version": 3
   },
   "file_extension": ".py",
   "mimetype": "text/x-python",
   "name": "python",
   "nbconvert_exporter": "python",
   "pygments_lexer": "ipython3",
   "version": "3.9.7"
  }
 },
 "nbformat": 4,
 "nbformat_minor": 5
}
